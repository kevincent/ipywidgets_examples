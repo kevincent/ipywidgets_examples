{
 "cells": [
  {
   "cell_type": "markdown",
   "metadata": {},
   "source": [
    "# ipywidget examples"
   ]
  },
  {
   "cell_type": "code",
   "execution_count": 1,
   "metadata": {},
   "outputs": [],
   "source": [
    "import ipywidgets as widgets\n",
    "from IPython.display import display, clear_output\n",
    "import matplotlib.pyplot as plt\n",
    "import numpy as np\n",
    "%matplotlib inline"
   ]
  },
  {
   "cell_type": "markdown",
   "metadata": {},
   "source": [
    "# Example 1\n",
    "## Interacte subplot with multiple widgets.  \n",
    "Note that the plot is also treated as a widget (called the Output widget).  The syntax for using subplots and updating text can be tricky. Initializing the plot first and rewriting the axes with a function call is more efficient than recreating the figure each function call."
   ]
  },
  {
   "cell_type": "code",
   "execution_count": 3,
   "metadata": {},
   "outputs": [
    {
     "data": {
      "application/vnd.jupyter.widget-view+json": {
       "model_id": "519ca5ae772648b5b09cab27ed81f9cb",
       "version_major": 2,
       "version_minor": 0
      },
      "text/html": [
       "<p>Failed to display Jupyter Widget of type <code>VBox</code>.</p>\n",
       "<p>\n",
       "  If you're reading this message in the Jupyter Notebook or JupyterLab Notebook, it may mean\n",
       "  that the widgets JavaScript is still loading. If this message persists, it\n",
       "  likely means that the widgets JavaScript library is either not installed or\n",
       "  not enabled. See the <a href=\"https://ipywidgets.readthedocs.io/en/stable/user_install.html\">Jupyter\n",
       "  Widgets Documentation</a> for setup instructions.\n",
       "</p>\n",
       "<p>\n",
       "  If you're reading this message in another frontend (for example, a static\n",
       "  rendering on GitHub or <a href=\"https://nbviewer.jupyter.org/\">NBViewer</a>),\n",
       "  it may mean that your frontend doesn't currently support widgets.\n",
       "</p>\n"
      ],
      "text/plain": [
       "VBox(children=(Output(), HBox(children=(Dropdown(description=u'Function: ', index=1, options={'cos': <ufunc 'cos'>, 'sin': <ufunc 'sin'>}, value=<ufunc 'sin'>), FloatSlider(value=1.0, continuous_update=False, max=10.0, min=0.5, step=0.5)))))"
      ]
     },
     "metadata": {},
     "output_type": "display_data"
    }
   ],
   "source": [
    "#Initialize the figure\n",
    "fig = plt.figure(figsize=(8,4))\n",
    "ax1=plt.subplot(121)\n",
    "ax2=plt.subplot(122)\n",
    "a = fig.text(0,0,'Hello Widgets! val = 1.0')\n",
    "plt.close(fig) #don't display until plot function is called\n",
    "\n",
    "#generate data\n",
    "t = np.arange(0.0, 1.0, 0.001)\n",
    "x = np.linspace(0.0, 2.0, 1000)\n",
    "s = x*np.pi*t\n",
    "\n",
    "def update_plot(fn,value):\n",
    "    ax1.clear()\n",
    "    ax2.clear()\n",
    "    a.set_text('Hello Widgets! val = %.2f'%value)\n",
    "    ax1.plot(x, fn(s*value))\n",
    "    ax2.plot(x, fn(s*value*2))\n",
    "    with out:\n",
    "        clear_output(wait=True)\n",
    "        display(fig)\n",
    "        \n",
    "#define widgets\n",
    "f_select = widgets.Dropdown(\n",
    "    options={'sin':np.sin,'cos':np.cos},\n",
    "    value=np.sin,\n",
    "    description='Function: ',\n",
    "    disabled=False,\n",
    ")\n",
    "mySlider = widgets.FloatSlider(\n",
    "    value=1.0, min=0.5, max=10, step=0.5,\n",
    "    continuous_update=False,)\n",
    "#group the two widgets together for display\n",
    "hbox = widgets.HBox(children=(f_select,mySlider))\n",
    "#the plot is treated as an output widget\n",
    "out = widgets.Output()\n",
    "#group the interactive widgets and output for display\n",
    "vbox = widgets.VBox(children=(out,hbox))\n",
    "display(vbox)\n",
    "\n",
    "# initial plot\n",
    "update_plot(np.sin,1.0)\n",
    "\n",
    "#define functions to respond to widgets\n",
    "def on_slider_change(change):\n",
    "    update_plot(f_select.value,change['new'])\n",
    "    \n",
    "def on_select_change(change):\n",
    "    update_plot(change['new'],mySlider.value)\n",
    "\n",
    "mySlider.observe(on_slider_change, names='value')\n",
    "f_select.observe(on_select_change,names='value')    "
   ]
  },
  {
   "cell_type": "markdown",
   "metadata": {},
   "source": [
    "# Example 2\n",
    "on_click function for button use"
   ]
  },
  {
   "cell_type": "code",
   "execution_count": 5,
   "metadata": {},
   "outputs": [
    {
     "data": {
      "application/vnd.jupyter.widget-view+json": {
       "model_id": "bdcd193c4ed042f5aaa309dfe472724d",
       "version_major": 2,
       "version_minor": 0
      },
      "text/html": [
       "<p>Failed to display Jupyter Widget of type <code>VBox</code>.</p>\n",
       "<p>\n",
       "  If you're reading this message in the Jupyter Notebook or JupyterLab Notebook, it may mean\n",
       "  that the widgets JavaScript is still loading. If this message persists, it\n",
       "  likely means that the widgets JavaScript library is either not installed or\n",
       "  not enabled. See the <a href=\"https://ipywidgets.readthedocs.io/en/stable/user_install.html\">Jupyter\n",
       "  Widgets Documentation</a> for setup instructions.\n",
       "</p>\n",
       "<p>\n",
       "  If you're reading this message in another frontend (for example, a static\n",
       "  rendering on GitHub or <a href=\"https://nbviewer.jupyter.org/\">NBViewer</a>),\n",
       "  it may mean that your frontend doesn't currently support widgets.\n",
       "</p>\n"
      ],
      "text/plain": [
       "VBox(children=(Output(), Button(description=u'Next', style=ButtonStyle())))"
      ]
     },
     "metadata": {},
     "output_type": "display_data"
    }
   ],
   "source": [
    "ax=plt.gca()\n",
    "plt.close()\n",
    "\n",
    "out2=widgets.Output()\n",
    "button=widgets.Button(description='Next')\n",
    "vbox2=widgets.VBox(children=(out2,button))\n",
    "display(vbox2)\n",
    "\n",
    "def click(b):\n",
    "    ax.clear()\n",
    "    ax.plot(np.random.randn(100),np.random.randn(100),'+')\n",
    "    with out2:\n",
    "        clear_output(wait=True)\n",
    "        display(ax.figure)\n",
    "\n",
    "button.on_click(click)\n",
    "click(None)"
   ]
  },
  {
   "cell_type": "markdown",
   "metadata": {},
   "source": [
    "# Example 3 \n",
    "simple check box calling a call fucntion using *args"
   ]
  },
  {
   "cell_type": "code",
   "execution_count": 6,
   "metadata": {},
   "outputs": [
    {
     "data": {
      "application/vnd.jupyter.widget-view+json": {
       "model_id": "7b910554efb04cfc874a0ee3c30830a4",
       "version_major": 2,
       "version_minor": 0
      },
      "text/html": [
       "<p>Failed to display Jupyter Widget of type <code>Checkbox</code>.</p>\n",
       "<p>\n",
       "  If you're reading this message in the Jupyter Notebook or JupyterLab Notebook, it may mean\n",
       "  that the widgets JavaScript is still loading. If this message persists, it\n",
       "  likely means that the widgets JavaScript library is either not installed or\n",
       "  not enabled. See the <a href=\"https://ipywidgets.readthedocs.io/en/stable/user_install.html\">Jupyter\n",
       "  Widgets Documentation</a> for setup instructions.\n",
       "</p>\n",
       "<p>\n",
       "  If you're reading this message in another frontend (for example, a static\n",
       "  rendering on GitHub or <a href=\"https://nbviewer.jupyter.org/\">NBViewer</a>),\n",
       "  it may mean that your frontend doesn't currently support widgets.\n",
       "</p>\n"
      ],
      "text/plain": [
       "Checkbox(value=False, description=u'checker')"
      ]
     },
     "metadata": {},
     "output_type": "display_data"
    }
   ],
   "source": [
    "from IPython.display import display\n",
    "from ipywidgets import Checkbox\n",
    "\n",
    "box = Checkbox(False, description='checker')\n",
    "display(box)\n",
    "\n",
    "def changed(*args):\n",
    "    if 'new' in args[0]: print(args[0]['new'])\n",
    "\n",
    "box.observe(changed,names='value')"
   ]
  },
  {
   "cell_type": "markdown",
   "metadata": {},
   "source": [
    "# Example 4\n",
    "Generate buttons with an iterator"
   ]
  },
  {
   "cell_type": "code",
   "execution_count": 5,
   "metadata": {},
   "outputs": [
    {
     "data": {
      "application/vnd.jupyter.widget-view+json": {
       "model_id": "c585f40637c240f9b6ced6e6c51492db",
       "version_major": 2,
       "version_minor": 0
      },
      "text/html": [
       "<p>Failed to display Jupyter Widget of type <code>HBox</code>.</p>\n",
       "<p>\n",
       "  If you're reading this message in the Jupyter Notebook or JupyterLab Notebook, it may mean\n",
       "  that the widgets JavaScript is still loading. If this message persists, it\n",
       "  likely means that the widgets JavaScript library is either not installed or\n",
       "  not enabled. See the <a href=\"https://ipywidgets.readthedocs.io/en/stable/user_install.html\">Jupyter\n",
       "  Widgets Documentation</a> for setup instructions.\n",
       "</p>\n",
       "<p>\n",
       "  If you're reading this message in another frontend (for example, a static\n",
       "  rendering on GitHub or <a href=\"https://nbviewer.jupyter.org/\">NBViewer</a>),\n",
       "  it may mean that your frontend doesn't currently support widgets.\n",
       "</p>\n"
      ],
      "text/plain": [
       "HBox(children=(VBox(children=(Button(button_style=u'info', description=u'Superior', style=ButtonStyle()), Button(button_style=u'info', description=u'Inferior', style=ButtonStyle()))), VBox(children=(Button(button_style=u'info', description=u'Anterior', style=ButtonStyle()), Button(button_style=u'info', description=u'Posterior', style=ButtonStyle())))))"
      ]
     },
     "metadata": {},
     "output_type": "display_data"
    },
    {
     "name": "stdout",
     "output_type": "stream",
     "text": [
      "Button clicked.\n",
      "Button clicked.\n",
      "Button clicked.\n"
     ]
    }
   ],
   "source": [
    "words = ['Superior', 'Inferior', 'Anterior', 'Posterior']\n",
    "items = [widgets.Button(description=w,disabled=False,button_style='info') for w in words]\n",
    "left_box = widgets.VBox([items[0], items[1]])\n",
    "right_box = widgets.VBox([items[2], items[3]])\n",
    "buttons = widgets.HBox([left_box, right_box])\n",
    "\n",
    "def on_button_clicked(b):\n",
    "    print(\"Button clicked.\")\n",
    "    \n",
    "items[0].on_click(on_button_clicked)\n",
    "display(buttons)"
   ]
  },
  {
   "cell_type": "code",
   "execution_count": null,
   "metadata": {},
   "outputs": [],
   "source": []
  }
 ],
 "metadata": {
  "kernelspec": {
   "display_name": "Python 2",
   "language": "python",
   "name": "python2"
  },
  "language_info": {
   "codemirror_mode": {
    "name": "ipython",
    "version": 2
   },
   "file_extension": ".py",
   "mimetype": "text/x-python",
   "name": "python",
   "nbconvert_exporter": "python",
   "pygments_lexer": "ipython2",
   "version": "2.7.14"
  }
 },
 "nbformat": 4,
 "nbformat_minor": 2
}
