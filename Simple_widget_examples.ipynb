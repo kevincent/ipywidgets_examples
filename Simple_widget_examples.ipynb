{
 "cells": [
  {
   "cell_type": "markdown",
   "metadata": {},
   "source": [
    "# ipywidget examples\n",
    "## By: Kevin Vincent (kevin.p.vincent@gmail.com)"
   ]
  },
  {
   "cell_type": "code",
   "execution_count": 1,
   "metadata": {},
   "outputs": [],
   "source": [
    "import ipywidgets as widgets\n",
    "from IPython.display import display, clear_output\n",
    "import matplotlib.pyplot as plt\n",
    "import numpy as np\n",
    "%matplotlib inline"
   ]
  },
  {
   "cell_type": "markdown",
   "metadata": {},
   "source": [
    "# Example 1\n",
    "## Simple interactive plot\n",
    "This is a basic example with the easiest method for using a widget - widget.interactive().  Multiple widgets can be defined by interactive() but the widgets are always displayed above the output figure."
   ]
  },
  {
   "cell_type": "code",
   "execution_count": 2,
   "metadata": {},
   "outputs": [
    {
     "data": {
      "application/vnd.jupyter.widget-view+json": {
       "model_id": "5a6135f42cc44da99111f3fa1d5b22c5",
       "version_major": 2,
       "version_minor": 0
      },
      "text/html": [
       "<p>Failed to display Jupyter Widget of type <code>interactive</code>.</p>\n",
       "<p>\n",
       "  If you're reading this message in the Jupyter Notebook or JupyterLab Notebook, it may mean\n",
       "  that the widgets JavaScript is still loading. If this message persists, it\n",
       "  likely means that the widgets JavaScript library is either not installed or\n",
       "  not enabled. See the <a href=\"https://ipywidgets.readthedocs.io/en/stable/user_install.html\">Jupyter\n",
       "  Widgets Documentation</a> for setup instructions.\n",
       "</p>\n",
       "<p>\n",
       "  If you're reading this message in another frontend (for example, a static\n",
       "  rendering on GitHub or <a href=\"https://nbviewer.jupyter.org/\">NBViewer</a>),\n",
       "  it may mean that your frontend doesn't currently support widgets.\n",
       "</p>\n"
      ],
      "text/plain": [
       "interactive(children=(Dropdown(description=u'Function: ', index=1, options={'cos': <ufunc 'cos'>, 'sin': <ufunc 'sin'>}, value=<ufunc 'sin'>), FloatSlider(value=1.0, continuous_update=False, description=u'value', max=10.0, min=0.5, step=0.5), Output()), _dom_classes=('widget-interact',))"
      ]
     },
     "metadata": {},
     "output_type": "display_data"
    }
   ],
   "source": [
    "#Initialize the figure\n",
    "fig = plt.figure(figsize=(8,4))\n",
    "ax1=plt.subplot(121)\n",
    "ax2=plt.subplot(122)\n",
    "a = fig.text(0,0,'Hello Widgets! val = 1.0')\n",
    "plt.close(fig) #don't display until plot function is called\n",
    "\n",
    "#generate data\n",
    "t = np.arange(0.0, 1.0, 0.001)\n",
    "x = np.linspace(0.0, 2.0, 1000)\n",
    "s = x*np.pi*t\n",
    "\n",
    "def update_plot(fn,value):\n",
    "    ax1.clear()\n",
    "    ax2.clear()\n",
    "    a.set_text('Hello Widgets! val = %.2f'%value)\n",
    "    ax1.plot(x, fn(s*value))\n",
    "    ax2.plot(x, fn(s*value*2))\n",
    "    display(fig)\n",
    "        \n",
    "widgets.interactive(update_plot,\\\n",
    "                fn=widgets.Dropdown(options={'sin':np.sin,'cos':np.cos},value=np.sin,description='Function: ',disabled=False),\\\n",
    "                value = widgets.FloatSlider(value=1.0, min=0.5, max=10, step=0.5,continuous_update=False,))\n"
   ]
  },
  {
   "cell_type": "markdown",
   "metadata": {},
   "source": [
    "# Example 2\n",
    "## Interactive subplot with multiple widgets.  \n",
    "Note that the plot is also treated as a widget (called the Output widget).  This seems to be needed for more detailed formatting of the widget including having the widgets below the plot.  The syntax for using subplots and updating text can be tricky. Initializing the plot first and rewriting the axes with a function call is more efficient than recreating the figure each function call."
   ]
  },
  {
   "cell_type": "code",
   "execution_count": 3,
   "metadata": {},
   "outputs": [
    {
     "data": {
      "application/vnd.jupyter.widget-view+json": {
       "model_id": "115940c62ff44adc865ac7abc8e9813a",
       "version_major": 2,
       "version_minor": 0
      },
      "text/html": [
       "<p>Failed to display Jupyter Widget of type <code>VBox</code>.</p>\n",
       "<p>\n",
       "  If you're reading this message in the Jupyter Notebook or JupyterLab Notebook, it may mean\n",
       "  that the widgets JavaScript is still loading. If this message persists, it\n",
       "  likely means that the widgets JavaScript library is either not installed or\n",
       "  not enabled. See the <a href=\"https://ipywidgets.readthedocs.io/en/stable/user_install.html\">Jupyter\n",
       "  Widgets Documentation</a> for setup instructions.\n",
       "</p>\n",
       "<p>\n",
       "  If you're reading this message in another frontend (for example, a static\n",
       "  rendering on GitHub or <a href=\"https://nbviewer.jupyter.org/\">NBViewer</a>),\n",
       "  it may mean that your frontend doesn't currently support widgets.\n",
       "</p>\n"
      ],
      "text/plain": [
       "VBox(children=(Output(), HBox(children=(Dropdown(description=u'Function: ', index=1, options={'cos': <ufunc 'cos'>, 'sin': <ufunc 'sin'>}, value=<ufunc 'sin'>), FloatSlider(value=1.0, continuous_update=False, max=10.0, min=0.5, step=0.5)))))"
      ]
     },
     "metadata": {},
     "output_type": "display_data"
    }
   ],
   "source": [
    "#Initialize the figure\n",
    "fig = plt.figure(figsize=(8,4))\n",
    "ax1=plt.subplot(121)\n",
    "ax2=plt.subplot(122)\n",
    "a = fig.text(0,0,'Hello Widgets! val = 1.0')\n",
    "plt.close(fig) #don't display until plot function is called\n",
    "\n",
    "#generate data\n",
    "t = np.arange(0.0, 1.0, 0.001)\n",
    "x = np.linspace(0.0, 2.0, 1000)\n",
    "s = x*np.pi*t\n",
    "\n",
    "def update_plot(fn,value):\n",
    "    ax1.clear()\n",
    "    ax2.clear()\n",
    "    a.set_text('Hello Widgets! val = %.2f'%value)\n",
    "    ax1.plot(x, fn(s*value))\n",
    "    ax2.plot(x, fn(s*value*2))\n",
    "    with out:\n",
    "        clear_output(wait=True)\n",
    "        display(fig)\n",
    "        \n",
    "#define widgets\n",
    "f_select = widgets.Dropdown(\n",
    "    options={'sin':np.sin,'cos':np.cos},\n",
    "    value=np.sin,\n",
    "    description='Function: ',\n",
    "    disabled=False,\n",
    ")\n",
    "mySlider = widgets.FloatSlider(\n",
    "    value=1.0, min=0.5, max=10, step=0.5,\n",
    "    continuous_update=False,)\n",
    "#group the two widgets together for display\n",
    "hbox = widgets.HBox(children=(f_select,mySlider))\n",
    "#the plot is treated as an output widget\n",
    "out = widgets.Output()\n",
    "#group the interactive widgets and output for display\n",
    "vbox = widgets.VBox(children=(out,hbox))\n",
    "display(vbox)\n",
    "\n",
    "# initial plot\n",
    "update_plot(np.sin,1.0)\n",
    "\n",
    "#define functions to respond to widgets\n",
    "def on_slider_change(change):\n",
    "    update_plot(f_select.value,change['new'])\n",
    "    \n",
    "def on_select_change(change):\n",
    "    update_plot(change['new'],mySlider.value)\n",
    "\n",
    "mySlider.observe(on_slider_change, names='value')\n",
    "f_select.observe(on_select_change, names='value')    "
   ]
  },
  {
   "cell_type": "markdown",
   "metadata": {},
   "source": [
    "# Example 3\n",
    "on_click function for button use"
   ]
  },
  {
   "cell_type": "code",
   "execution_count": 4,
   "metadata": {},
   "outputs": [
    {
     "data": {
      "application/vnd.jupyter.widget-view+json": {
       "model_id": "f89095613a9b4d9ab4578fd83549778d",
       "version_major": 2,
       "version_minor": 0
      },
      "text/html": [
       "<p>Failed to display Jupyter Widget of type <code>VBox</code>.</p>\n",
       "<p>\n",
       "  If you're reading this message in the Jupyter Notebook or JupyterLab Notebook, it may mean\n",
       "  that the widgets JavaScript is still loading. If this message persists, it\n",
       "  likely means that the widgets JavaScript library is either not installed or\n",
       "  not enabled. See the <a href=\"https://ipywidgets.readthedocs.io/en/stable/user_install.html\">Jupyter\n",
       "  Widgets Documentation</a> for setup instructions.\n",
       "</p>\n",
       "<p>\n",
       "  If you're reading this message in another frontend (for example, a static\n",
       "  rendering on GitHub or <a href=\"https://nbviewer.jupyter.org/\">NBViewer</a>),\n",
       "  it may mean that your frontend doesn't currently support widgets.\n",
       "</p>\n"
      ],
      "text/plain": [
       "VBox(children=(Output(), Button(description=u'Next', style=ButtonStyle())))"
      ]
     },
     "metadata": {},
     "output_type": "display_data"
    }
   ],
   "source": [
    "ax=plt.gca()\n",
    "plt.close()\n",
    "\n",
    "out2=widgets.Output()\n",
    "button=widgets.Button(description='Next')\n",
    "vbox2=widgets.VBox(children=(out2,button))\n",
    "display(vbox2)\n",
    "\n",
    "def click(b):\n",
    "    ax.clear()\n",
    "    ax.plot(np.random.randn(100),np.random.randn(100),'+')\n",
    "    with out2:\n",
    "        clear_output(wait=True)\n",
    "        display(ax.figure)\n",
    "\n",
    "button.on_click(click)\n",
    "click(None)"
   ]
  },
  {
   "cell_type": "markdown",
   "metadata": {},
   "source": [
    "# Example 4\n",
    "simple check box calling a call fucntion using *args"
   ]
  },
  {
   "cell_type": "code",
   "execution_count": 5,
   "metadata": {},
   "outputs": [
    {
     "data": {
      "application/vnd.jupyter.widget-view+json": {
       "model_id": "b497a95aa87f4cfea47fec51205a35bc",
       "version_major": 2,
       "version_minor": 0
      },
      "text/html": [
       "<p>Failed to display Jupyter Widget of type <code>Checkbox</code>.</p>\n",
       "<p>\n",
       "  If you're reading this message in the Jupyter Notebook or JupyterLab Notebook, it may mean\n",
       "  that the widgets JavaScript is still loading. If this message persists, it\n",
       "  likely means that the widgets JavaScript library is either not installed or\n",
       "  not enabled. See the <a href=\"https://ipywidgets.readthedocs.io/en/stable/user_install.html\">Jupyter\n",
       "  Widgets Documentation</a> for setup instructions.\n",
       "</p>\n",
       "<p>\n",
       "  If you're reading this message in another frontend (for example, a static\n",
       "  rendering on GitHub or <a href=\"https://nbviewer.jupyter.org/\">NBViewer</a>),\n",
       "  it may mean that your frontend doesn't currently support widgets.\n",
       "</p>\n"
      ],
      "text/plain": [
       "Checkbox(value=False, description=u'checker')"
      ]
     },
     "metadata": {},
     "output_type": "display_data"
    }
   ],
   "source": [
    "from IPython.display import display\n",
    "from ipywidgets import Checkbox\n",
    "\n",
    "box = Checkbox(False, description='checker')\n",
    "display(box)\n",
    "\n",
    "def changed(*args):\n",
    "    if 'new' in args[0]: print(args[0]['new'])\n",
    "\n",
    "box.observe(changed,names='value')"
   ]
  },
  {
   "cell_type": "markdown",
   "metadata": {},
   "source": [
    "# Example 5\n",
    "Generate buttons with an iterator"
   ]
  },
  {
   "cell_type": "code",
   "execution_count": 6,
   "metadata": {},
   "outputs": [
    {
     "data": {
      "application/vnd.jupyter.widget-view+json": {
       "model_id": "326e18b95651410ba7fdba2ac6f06826",
       "version_major": 2,
       "version_minor": 0
      },
      "text/html": [
       "<p>Failed to display Jupyter Widget of type <code>HBox</code>.</p>\n",
       "<p>\n",
       "  If you're reading this message in the Jupyter Notebook or JupyterLab Notebook, it may mean\n",
       "  that the widgets JavaScript is still loading. If this message persists, it\n",
       "  likely means that the widgets JavaScript library is either not installed or\n",
       "  not enabled. See the <a href=\"https://ipywidgets.readthedocs.io/en/stable/user_install.html\">Jupyter\n",
       "  Widgets Documentation</a> for setup instructions.\n",
       "</p>\n",
       "<p>\n",
       "  If you're reading this message in another frontend (for example, a static\n",
       "  rendering on GitHub or <a href=\"https://nbviewer.jupyter.org/\">NBViewer</a>),\n",
       "  it may mean that your frontend doesn't currently support widgets.\n",
       "</p>\n"
      ],
      "text/plain": [
       "HBox(children=(VBox(children=(Button(button_style=u'info', description=u'Superior', style=ButtonStyle()), Button(button_style=u'info', description=u'Inferior', style=ButtonStyle()))), VBox(children=(Button(button_style=u'info', description=u'Anterior', style=ButtonStyle()), Button(button_style=u'info', description=u'Posterior', style=ButtonStyle())))))"
      ]
     },
     "metadata": {},
     "output_type": "display_data"
    }
   ],
   "source": [
    "words = ['Superior', 'Inferior', 'Anterior', 'Posterior']\n",
    "items = [widgets.Button(description=w,disabled=False,button_style='info') for w in words]\n",
    "left_box = widgets.VBox([items[0], items[1]])\n",
    "right_box = widgets.VBox([items[2], items[3]])\n",
    "buttons = widgets.HBox([left_box, right_box])\n",
    "\n",
    "def on_button_clicked(b):\n",
    "    print(\"Button clicked.\")\n",
    "    \n",
    "items[0].on_click(on_button_clicked)\n",
    "display(buttons)"
   ]
  }
 ],
 "metadata": {
  "kernelspec": {
   "display_name": "Python 2",
   "language": "python",
   "name": "python2"
  },
  "language_info": {
   "codemirror_mode": {
    "name": "ipython",
    "version": 2
   },
   "file_extension": ".py",
   "mimetype": "text/x-python",
   "name": "python",
   "nbconvert_exporter": "python",
   "pygments_lexer": "ipython2",
   "version": "2.7.14"
  },
  "widgets": {
   "application/vnd.jupyter.widget-state+json": {
    "state": {
     "034969cc6d334036b8791ebc05a6e505": {
      "model_module": "@jupyter-widgets/controls",
      "model_module_version": "1.1.0",
      "model_name": "SliderStyleModel",
      "state": {
       "description_width": ""
      }
     },
     "04f7e97067a84560b92e98d301fd0be9": {
      "model_module": "@jupyter-widgets/controls",
      "model_module_version": "1.1.0",
      "model_name": "VBoxModel",
      "state": {
       "children": [
        "IPY_MODEL_afc363b952534474a3902a627886c18c",
        "IPY_MODEL_ef8b89d91d69420fb01e7695da7776ce"
       ],
       "layout": "IPY_MODEL_e678f613ecc8432e99e1d842fbb8856e"
      }
     },
     "0751e7dc4a704bdaab963bbe7fe1eeaf": {
      "model_module": "@jupyter-widgets/controls",
      "model_module_version": "1.1.0",
      "model_name": "VBoxModel",
      "state": {
       "children": [
        "IPY_MODEL_83a509f99a894651be932308932a355c",
        "IPY_MODEL_dc9d5b1e17374dd1824abe25b4f5dfc7"
       ],
       "layout": "IPY_MODEL_bfe824a95323443fb8653b3612da240b"
      }
     },
     "09c0e63df2a44145bbc10b163a3b03c0": {
      "model_module": "@jupyter-widgets/controls",
      "model_module_version": "1.1.0",
      "model_name": "CheckboxModel",
      "state": {
       "description": "checker",
       "disabled": false,
       "layout": "IPY_MODEL_8e9507b99a9b4a02957c661f2d97864e",
       "style": "IPY_MODEL_6846e5eddee542a5a2358e1c6d16d250",
       "value": false
      }
     },
     "0abbfe40622d49c194fba139d4322dcf": {
      "model_module": "@jupyter-widgets/base",
      "model_module_version": "1.0.0",
      "model_name": "LayoutModel",
      "state": {}
     },
     "152abd45cddd42a7b85ea32812e64daf": {
      "model_module": "@jupyter-widgets/base",
      "model_module_version": "1.0.0",
      "model_name": "LayoutModel",
      "state": {}
     },
     "18a2139e944145e094ea84b3db8114dc": {
      "model_module": "@jupyter-widgets/controls",
      "model_module_version": "1.1.0",
      "model_name": "VBoxModel",
      "state": {
       "children": [
        "IPY_MODEL_fa800db58d374768b921c465b18f83cb",
        "IPY_MODEL_630dae9e68604d59a37f5efd59442b32"
       ],
       "layout": "IPY_MODEL_2e43461cd3664527bdcf92827d14662e"
      }
     },
     "19144b710ebe43dc924bc0662ef48561": {
      "model_module": "@jupyter-widgets/output",
      "model_module_version": "1.0.0",
      "model_name": "OutputModel",
      "state": {
       "layout": "IPY_MODEL_448f0d3ec76448b6832546b0a3818860",
       "outputs": [
        {
         "data": {
          "image/png": "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\n",
          "text/plain": "<matplotlib.figure.Figure at 0x10f2c7ad0>"
         },
         "metadata": {},
         "output_type": "display_data"
        }
       ]
      }
     },
     "2e43461cd3664527bdcf92827d14662e": {
      "model_module": "@jupyter-widgets/base",
      "model_module_version": "1.0.0",
      "model_name": "LayoutModel",
      "state": {}
     },
     "3182445043ba48deaec6cdede77132d5": {
      "model_module": "@jupyter-widgets/controls",
      "model_module_version": "1.1.0",
      "model_name": "DescriptionStyleModel",
      "state": {
       "description_width": ""
      }
     },
     "35ddf928536e47d39cb1de7b4cf4a175": {
      "model_module": "@jupyter-widgets/base",
      "model_module_version": "1.0.0",
      "model_name": "LayoutModel",
      "state": {}
     },
     "3bc1c8194e7a4c0c93ee1088240644cc": {
      "model_module": "@jupyter-widgets/output",
      "model_module_version": "1.0.0",
      "model_name": "OutputModel",
      "state": {
       "layout": "IPY_MODEL_bc08046857754e22ada0d8def6be90f3",
       "outputs": [
        {
         "data": {
          "image/png": "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\n",
          "text/plain": "<matplotlib.figure.Figure at 0x117294650>"
         },
         "metadata": {},
         "output_type": "display_data"
        }
       ]
      }
     },
     "3cbdd0ee554f4f2cb93a042364da03e2": {
      "model_module": "@jupyter-widgets/controls",
      "model_module_version": "1.1.0",
      "model_name": "DescriptionStyleModel",
      "state": {
       "description_width": ""
      }
     },
     "3cfd925296264e4e8c291f0c63f801f3": {
      "model_module": "@jupyter-widgets/base",
      "model_module_version": "1.0.0",
      "model_name": "LayoutModel",
      "state": {}
     },
     "448f0d3ec76448b6832546b0a3818860": {
      "model_module": "@jupyter-widgets/base",
      "model_module_version": "1.0.0",
      "model_name": "LayoutModel",
      "state": {}
     },
     "44985a9b6bc046aeb7e6ec974948057b": {
      "model_module": "@jupyter-widgets/controls",
      "model_module_version": "1.1.0",
      "model_name": "ButtonModel",
      "state": {
       "description": "Next",
       "layout": "IPY_MODEL_abd0e7f4e535447eac731dab443cc02d",
       "style": "IPY_MODEL_c3de6bdedb7c411092bf431c2dc756dc"
      }
     },
     "4ac3b13e0baf44c787152c72ad248371": {
      "model_module": "@jupyter-widgets/controls",
      "model_module_version": "1.1.0",
      "model_name": "DropdownModel",
      "state": {
       "_options_labels": [
        "cos",
        "sin"
       ],
       "description": "Function: ",
       "index": 1,
       "layout": "IPY_MODEL_7ec0f24a64124b77a9b4acb8ea2aa978",
       "style": "IPY_MODEL_3cbdd0ee554f4f2cb93a042364da03e2"
      }
     },
     "4adff2a8fbdc419c8b6c623a2927e776": {
      "model_module": "@jupyter-widgets/controls",
      "model_module_version": "1.1.0",
      "model_name": "ButtonStyleModel",
      "state": {}
     },
     "519ca5ae772648b5b09cab27ed81f9cb": {
      "model_module": "@jupyter-widgets/controls",
      "model_module_version": "1.1.0",
      "model_name": "VBoxModel",
      "state": {
       "children": [
        "IPY_MODEL_3bc1c8194e7a4c0c93ee1088240644cc",
        "IPY_MODEL_a7968ad102ae4cfda65595d63deefc1c"
       ],
       "layout": "IPY_MODEL_aead3158ff144713af0aa05b09d83f33"
      }
     },
     "57f13830ad914de5aea1a40c909b0ccd": {
      "model_module": "@jupyter-widgets/controls",
      "model_module_version": "1.1.0",
      "model_name": "ButtonModel",
      "state": {
       "description": "Next",
       "layout": "IPY_MODEL_d4f716e38ebb402582bb3e193b6aed24",
       "style": "IPY_MODEL_5d6389fe86cd4b8e84035ca49c076ba1"
      }
     },
     "596e8da7607444418182342c2bc8b111": {
      "model_module": "@jupyter-widgets/base",
      "model_module_version": "1.0.0",
      "model_name": "LayoutModel",
      "state": {}
     },
     "5d6389fe86cd4b8e84035ca49c076ba1": {
      "model_module": "@jupyter-widgets/controls",
      "model_module_version": "1.1.0",
      "model_name": "ButtonStyleModel",
      "state": {}
     },
     "5f35aa1bf8c54773b68afc5536186402": {
      "model_module": "@jupyter-widgets/controls",
      "model_module_version": "1.1.0",
      "model_name": "VBoxModel",
      "state": {
       "children": [
        "IPY_MODEL_19144b710ebe43dc924bc0662ef48561",
        "IPY_MODEL_ff8dcea703254f66868bd1cb76a0ff17"
       ],
       "layout": "IPY_MODEL_596e8da7607444418182342c2bc8b111"
      }
     },
     "5f74fecb145241b485a9114365f2675b": {
      "model_module": "@jupyter-widgets/base",
      "model_module_version": "1.0.0",
      "model_name": "LayoutModel",
      "state": {}
     },
     "5fccdbabd0334585a0b2f3bea39398a7": {
      "model_module": "@jupyter-widgets/base",
      "model_module_version": "1.0.0",
      "model_name": "LayoutModel",
      "state": {}
     },
     "6290dcbbd9174e638a0df37858ce3f1e": {
      "model_module": "@jupyter-widgets/base",
      "model_module_version": "1.0.0",
      "model_name": "LayoutModel",
      "state": {}
     },
     "630dae9e68604d59a37f5efd59442b32": {
      "model_module": "@jupyter-widgets/controls",
      "model_module_version": "1.1.0",
      "model_name": "ButtonModel",
      "state": {
       "description": "Next",
       "layout": "IPY_MODEL_0abbfe40622d49c194fba139d4322dcf",
       "style": "IPY_MODEL_b5e09d8b3deb4be18013c37997ae04ba"
      }
     },
     "65c0b7075be34256946cbf1c27aa3ae8": {
      "model_module": "@jupyter-widgets/controls",
      "model_module_version": "1.1.0",
      "model_name": "DropdownModel",
      "state": {
       "_options_labels": [
        "cos",
        "sin"
       ],
       "description": "Function: ",
       "index": 1,
       "layout": "IPY_MODEL_910011d7d61a4e8985ece89dc2a87bef",
       "style": "IPY_MODEL_9323a4a3e5f0495c95ca2468bc21e358"
      }
     },
     "678adceb78ed40698e3ca408ab5c609f": {
      "model_module": "@jupyter-widgets/controls",
      "model_module_version": "1.1.0",
      "model_name": "VBoxModel",
      "state": {
       "children": [
        "IPY_MODEL_bbe45bbbb72e4607872118ebadaabf50",
        "IPY_MODEL_57f13830ad914de5aea1a40c909b0ccd"
       ],
       "layout": "IPY_MODEL_e560b62043044b4aa0f341b6e2c93694"
      }
     },
     "6846e5eddee542a5a2358e1c6d16d250": {
      "model_module": "@jupyter-widgets/controls",
      "model_module_version": "1.1.0",
      "model_name": "DescriptionStyleModel",
      "state": {
       "description_width": ""
      }
     },
     "782181efd8614dd7be1a1c123a0e5e0f": {
      "model_module": "@jupyter-widgets/base",
      "model_module_version": "1.0.0",
      "model_name": "LayoutModel",
      "state": {}
     },
     "78e3a00b481e489f8624f5ac14d47ee3": {
      "model_module": "@jupyter-widgets/base",
      "model_module_version": "1.0.0",
      "model_name": "LayoutModel",
      "state": {}
     },
     "7b910554efb04cfc874a0ee3c30830a4": {
      "model_module": "@jupyter-widgets/controls",
      "model_module_version": "1.1.0",
      "model_name": "CheckboxModel",
      "state": {
       "description": "checker",
       "disabled": false,
       "layout": "IPY_MODEL_f700009c2775410b9bee54ec59987d22",
       "style": "IPY_MODEL_f933284671f04d8a93ddac079dffa2d7",
       "value": false
      }
     },
     "7ec0f24a64124b77a9b4acb8ea2aa978": {
      "model_module": "@jupyter-widgets/base",
      "model_module_version": "1.0.0",
      "model_name": "LayoutModel",
      "state": {}
     },
     "83a509f99a894651be932308932a355c": {
      "model_module": "@jupyter-widgets/controls",
      "model_module_version": "1.1.0",
      "model_name": "ButtonModel",
      "state": {
       "button_style": "info",
       "description": "Superior",
       "layout": "IPY_MODEL_900b20887b964b969a9faaeb4a4ab589",
       "style": "IPY_MODEL_bc3d649a6b564276ac310387e89a5ba6"
      }
     },
     "84bcc58f91a24d468c1130a7489c3e35": {
      "model_module": "@jupyter-widgets/base",
      "model_module_version": "1.0.0",
      "model_name": "LayoutModel",
      "state": {}
     },
     "8598ba7983c54053906ec7f2810b861f": {
      "model_module": "@jupyter-widgets/base",
      "model_module_version": "1.0.0",
      "model_name": "LayoutModel",
      "state": {}
     },
     "8c83e25c2fe34559ab69f2d43671baac": {
      "model_module": "@jupyter-widgets/controls",
      "model_module_version": "1.1.0",
      "model_name": "ButtonStyleModel",
      "state": {}
     },
     "8e9507b99a9b4a02957c661f2d97864e": {
      "model_module": "@jupyter-widgets/base",
      "model_module_version": "1.0.0",
      "model_name": "LayoutModel",
      "state": {}
     },
     "8f8c0f006ae74e77939f2da82bca9a1e": {
      "model_module": "@jupyter-widgets/controls",
      "model_module_version": "1.1.0",
      "model_name": "VBoxModel",
      "state": {
       "children": [
        "IPY_MODEL_c7ed9840694447be9da9d39839670898",
        "IPY_MODEL_c44cfb492afa43abb6dbb03c631ab311"
       ],
       "layout": "IPY_MODEL_ee57e7c54aa14ca081f476ce4e00667a"
      }
     },
     "900b20887b964b969a9faaeb4a4ab589": {
      "model_module": "@jupyter-widgets/base",
      "model_module_version": "1.0.0",
      "model_name": "LayoutModel",
      "state": {}
     },
     "90f70c345c734ef4bad53a93e8b4c359": {
      "model_module": "@jupyter-widgets/controls",
      "model_module_version": "1.1.0",
      "model_name": "ButtonStyleModel",
      "state": {}
     },
     "910011d7d61a4e8985ece89dc2a87bef": {
      "model_module": "@jupyter-widgets/base",
      "model_module_version": "1.0.0",
      "model_name": "LayoutModel",
      "state": {}
     },
     "9323a4a3e5f0495c95ca2468bc21e358": {
      "model_module": "@jupyter-widgets/controls",
      "model_module_version": "1.1.0",
      "model_name": "DescriptionStyleModel",
      "state": {
       "description_width": ""
      }
     },
     "a2d2b837c3834cae92ef51679a065d0d": {
      "model_module": "@jupyter-widgets/controls",
      "model_module_version": "1.1.0",
      "model_name": "HBoxModel",
      "state": {
       "children": [
        "IPY_MODEL_0751e7dc4a704bdaab963bbe7fe1eeaf",
        "IPY_MODEL_8f8c0f006ae74e77939f2da82bca9a1e"
       ],
       "layout": "IPY_MODEL_35ddf928536e47d39cb1de7b4cf4a175"
      }
     },
     "a757b4fdeed44019a7f3e8c7c43d2701": {
      "model_module": "@jupyter-widgets/controls",
      "model_module_version": "1.1.0",
      "model_name": "SliderStyleModel",
      "state": {
       "description_width": ""
      }
     },
     "a7968ad102ae4cfda65595d63deefc1c": {
      "model_module": "@jupyter-widgets/controls",
      "model_module_version": "1.1.0",
      "model_name": "HBoxModel",
      "state": {
       "children": [
        "IPY_MODEL_65c0b7075be34256946cbf1c27aa3ae8",
        "IPY_MODEL_bfe8d8239ff948fd9fc2a42104e57a59"
       ],
       "layout": "IPY_MODEL_782181efd8614dd7be1a1c123a0e5e0f"
      }
     },
     "a8eebaa1c384496e8867b8dfaa088745": {
      "model_module": "@jupyter-widgets/base",
      "model_module_version": "1.0.0",
      "model_name": "LayoutModel",
      "state": {}
     },
     "aab9a7334edf4a5e98aeab9687cfaf77": {
      "model_module": "@jupyter-widgets/controls",
      "model_module_version": "1.1.0",
      "model_name": "FloatSliderModel",
      "state": {
       "continuous_update": false,
       "layout": "IPY_MODEL_e5113c80aafc48b9998cebae24cc583b",
       "max": 10,
       "min": 0.5,
       "step": 0.5,
       "style": "IPY_MODEL_c1ed73846f3d498fa660828a57c6c614",
       "value": 6
      }
     },
     "abd0e7f4e535447eac731dab443cc02d": {
      "model_module": "@jupyter-widgets/base",
      "model_module_version": "1.0.0",
      "model_name": "LayoutModel",
      "state": {}
     },
     "aead3158ff144713af0aa05b09d83f33": {
      "model_module": "@jupyter-widgets/base",
      "model_module_version": "1.0.0",
      "model_name": "LayoutModel",
      "state": {}
     },
     "afc363b952534474a3902a627886c18c": {
      "model_module": "@jupyter-widgets/output",
      "model_module_version": "1.0.0",
      "model_name": "OutputModel",
      "state": {
       "layout": "IPY_MODEL_5fccdbabd0334585a0b2f3bea39398a7",
       "outputs": [
        {
         "data": {
          "image/png": "iVBORw0KGgoAAAANSUhEUgAAAhgAAAERCAYAAAA5Y95FAAAABHNCSVQICAgIfAhkiAAAAAlwSFlzAAALEgAACxIB0t1+/AAAADl0RVh0U29mdHdhcmUAbWF0cGxvdGxpYiB2ZXJzaW9uIDIuMS4yLCBodHRwOi8vbWF0cGxvdGxpYi5vcmcvNQv5yAAAIABJREFUeJzs3Xl4pFWZ8P/vqaqksu+VrbN0kt639JJuaFA2AVsdNhEER0VHX5hRZn7qO6O4jKijjg7j6DjizNsiI4IKigqNMjbQwCDQ3XQ39L4lnXTS2fc9laSqzu+PqmpCk3Rnqaee56ncn+vKlaTqqcod6FO565z73EdprRFCCCGEiCSH2QEIIYQQIvZIgiGEEEKIiJMEQwghhBARJwmGEEIIISJOEgwhhBBCRJwkGEIIIYSIOEkwhBBCCBFxkmAIIYQQIuIkwRBCCCFExLnMDsDOcnJy9MKFC80OQwjL27dvX6fW2mN2HOcj41mI6ZnueJYEYw4WLlzI3r17zQ5DCMtTStWbHcOFyHgWYnqmO55liUQIIYQQEScJhhBCCCEiThIMIYQQQkScJBhCCCGEiDhJMIQQQggRcTGVYCilHlRKtSulDk9xv1JK/VApVaOUOqiUWj/hvjuUUtWhjzuiF7UQYjIynoWwt5hKMICfAVvOc/97gMWhjzuB/wRQSmUB9wIXAZuAe5VSmYZGKoS4kJ8h41kI24qpPhha65eUUgvPc8kNwM+11hrYpZTKUEoVAFcAz2qtuwGUUs8SfGH7lbERi0gY9fk52NjH8ZZ++r0+XA5FaXYyF5VlkZkcb3Z4YpZkPFuH1poDjX3sPd3NqC/AkrxU3rk4h4Q4p9mh2Uq/d5zf7mukID2Rd6/MQylldkiGiqkEYxoWAGcmfN8Yum2q299GKXUnwXdLlJSUGBOlmJb6riH+639r+cPBZga8vrfd71Bw1bJcPnXlItaXyBvYGCTjOQr21Xdz77YjHG7qf8vtualu7r1uJe9bU2BSZPYyNOrj1v/ayfHWAQD+/tol3H3VYpOjMtZ8SzAmSxf1eW5/+41abwW2AlRVVU16jTDW0KiP+7af4OFd9bgcivetLuDdq/JZU5ROdrIbr89PddsAzx1r57E9Z3j/j1/l9k3FfOV9K0h2z7d/8jFNxrPBHny5jm89fYy8VDffef9qrlmRR1K8i9dOd/Nvz5zg0798nRNti/ncNUvMDtXytr5Uy/HWAbZ+ZANPHWzhB89V897VBZR7UswOzTDz7dW2ESie8H0R0By6/Ypzbn8xalGJadtX381nHttPY88If3lRCX931WJy0xLeck28y8GG0iw2lGZx95WL+Pcd1Tzw51reaOjlJx+tojgryaToRYTJeDbQ/S/UcN/2E1y7Io/v3VpJakLc2fsuX+Jhc3k2X/79IX64o5q0BBeffGe5idFa2/CYj5++XMeWlflcuzKfdSWZbD/cykOvnubrN6wyOzzDxFqR54VsAz4aqj6/GOjTWrcA24FrlVKZoWKwa0O3CQv59d4z3LZ1FwrFr+/azDdvXP225OJcyW4XX3rvcn728U00945wy3/tpL5rKEoRC4PJeDbIL3c3cN/2E9y4tpD//PCGtyQXYfEuB9+5eQ1bVubz7aePsa++24RI7eGZI20Mjvr4q3eUAeBJdfMXawr47etNeMf9JkdnnJhKMJRSvwJ2AkuVUo1KqU8opf5aKfXXoUueBmqBGuAnwKcAQsVg/wTsCX18I1wgJsynteYHz53k848f5KKybJ66+x1sXJg1o+e4bImHx+7ajNfn50M/2U1bv9egaEWkyHg2xxsNPdy77TBXLPXwr7dU4nRMXYjodCj+5ZY1FGYk8pnH9sf0H8u5+P0bTSzISKSq9M1asOvWFjI46mPnqS4TIzNWTC2RaK1vv8D9Gvj0FPc9CDxoRFxi9rTWfO+Zk/zohRo+sKGI77x/NS7n7PLi5QVpPPKJi7j1/+3krof38eidF0sVvIXJeI6+3uExPv2L18lLS+AHH1w7rbGWlhDHv9y8hg89sJsH/lwb84WLMzU46uOVmk4+8c4yHBOStUsqsklxu3jmaCtXLss1MULjxNQMhog93382mFzctrGYf7l5zayTi7BVC9L53i2V7D/Tyzf+cDRCUQoRG775x2O0D4zy479cT0bS9Ld4X7Iohy0r8/nxi6dol9nBt9hd24UvoLl8sectt7tdTjZXZMf0DIYkGMKyfvVaAz98voZbq4r49k2r35L9z8V7Vhdw12Xl/HJ3Ay8cb4/Icwphd3+u7uDxfY3cdXk5a4oyZvz4L753Gd5xPw+8XGdAdPb1ck0nbpeD9aVv3yp/UVkWp7uGY3bJVhIMYUkvnGjnK08c5vIlnogmF2Gfu3YJS/NS+cJvD9IzNBbR5xbCbrzjfr70+0OUe5L521kucZRmJ3NdZSGP7Kqnd1jGVNirNV1sKsuadDk2XEv2Wl1slghJgiEsp7ptgLt/8TrL8lO5/y/Xz3lZZDJul5Pv3VpJ19AY//rMiYg/vxB28tOX6zjTPcK3blw9p7qkv7miguExP4/sqo9gdPY14B3nZPsAVaWTF6WvLEwjOd7JntOSYAhhuMFRH3/9yD4S45389I6NpBjYGGvVgnQ+cnEpv3qtgSPNfYb9HCGsrGNglB+/UMO1K/LYXJE9p+dalp/GOxbl8KvXzuAPSN+yQ419aA1rSyZfcnI5HawsTOdQU2y+/kiCISxDa83nHz9AXecQP7x9Hfnp5+9xEQmfvXoJGUnxfH3bUYKbEoSYX77/3ElGfQHuec+yiDzf7ZtKaOod4aWTHRF5Pjvb39gLQGVR+pTXrFyQxvGWgZhMyCTBEJbx4CunefpQK5/fsoxLKnKi8jPTk+L43DVLeO10N/8rL4hinjnVMcijrzXw4YtLI9ay+poVeeSkxPPL1xoi8nx2tr+hl7Kc5PPuyFlZmM7IuJ+6zsEoRhYdkmAISzjW0s93/+c4Vy/P467Lotty+NaqYooyE/n+sydlFkPMKz96vga3y8ndVy2K2HPGuxzctG4BL55on/fFngcae887ewGwakEawNsOk4sFkmAI03nH/Xz2sf2kJcbx3ZtXR/0I43iXg7+7ajEHGvvYcUy2rYr5obZjkCf3N/GRzaXkpLgj+tzXVy5g3K/ZfqQ1os9rJ12Do7T1j7JqwfkTjEWeFOJdDo61SIIhRMR975kTHG8d4L4PrCE7wi9003XT+gWUZifx7zuqZRZDzAs/er6GeJeDOw2YMVy1II3S7CSeOtAS8ee2ixNtwWPZl+Slnvc6l9NBeU4yNe2yRCJERL1a08kDL9fx4YtLTG2XG+d0cNdlFRxq6mN3jO5JFyKsrnOIJ/Y38ZGLIz97AaCU4ro1hbx6qpOOgdGIP78dnGwNJhjL8s+fYABU5KZQ0yEJhhARMzTq4x8eP0hZdjJfeu9ys8Ph/esXkJkUxwN/lk6EIrb914unQrMXFYb9jPetKSCg4dmjbYb9DCs70TZARlIcntQLJ3AVnhTOdA/H3GFxkmAI09y3/QTNfSPcd8sakuLNP3cvIc7JRy4uZcfxNuo65Uh3EZvaB7z8/o0mbtlQPK0/frO1LD+VBRmJPD9P2/GfaB1gSV7qtGrKFuWmENDE3OuOJBjCFPvqe3ho52k+cnEpG6bocmeGD28uJc7h4GevyCyGiE0P76xnPBDgE+8oM/TnKKV41/JcXqnpjLl35heiteZk2+C0lkcgWOgJxFwdhiQYIupGfX7u+e1BCtIS+PyWyDT3iZTc1ATet6aA373RxMjY/HpRFLFveMzHw7vquXZFHgtzkg3/ee9ansfIuD+mTwydTFPvCIOjvgsWeIaVe5JRShIMy1NKbVFKnVBK1Sil7pnk/u8rpfaHPk4qpXon3OefcN+26EY+f/zni6eobh/kmzetMrQV+GzdtrGYAa+PPx6avxXwViBjOfIe39dI7/C4ITtHJnNRWRZJ8U52HJ9fdRjVoURhuglGQpyTosxEamNsicR6r+5zoJRyAvcD1wCNwB6l1Dat9dHwNVrrz064/m+BdROeYkRrvTZa8c5H1W0D3P9CDddXFnLVsjyzw5nUprIsynOSefS1Bj6wocjscOYlGcuR5w9oHvhzHetLMqK2LJkQ5+SSipx51yW3riOYKJR7pj9LVJqVTEP3sFEhmSLWZjA2ATVa61qt9RjwKHDDea6/HfhVVCITaK35yhOHSXa7uPe6FWaHMyWlFB/cWMze+h5q2gfMDme+krEcYc8caaWhe5j/887odsp9x6JsznSPcCbG/niez+muIVLdLrKTp24Rfq7irKSY+28UawnGAuDMhO8bQ7e9jVKqFCgDnp9wc4JSaq9SapdS6kbjwpyf/nCwhd113fzfa5ea1lBrum7eUEScU/Hoa2cufLEwgozlCHvwlTpKspK4dmV+VH/upYuC5wq9UtMZ1Z9rprrOIco8yTPqSlyanUT30BgD3nEDI4uuWEswJvu/OVVbxtuAx7XWEyv5SrTWVcCHgB8opd62SVwpdWfohWtvR8f8mvabi+ExH99++hgrCtL40KYSs8O5oJwUN1cty+WJ/c0xecqhDRg+lmH+jOdjLf3sOd3DRy4uxemIbiv+RbkpeFLdvDqPCj3rOodYmD2zItqSrCQAznSPGBGSKWItwWgEiid8XwQ0T3HtbZwzpaq1bg59rgVe5K1ruuFrtmqtq7TWVR6PJxIxzwv3v1BDS5+Xr9+wMuovcLN149oFdA6OzrsKeIswfCyH7p8X4/nnO+txuxzcUhX9miKlFJdUZPPqqa550YbfO+6nqXeEshnu0gknGLFUhxFrCcYeYLFSqkwpFU/whedtFeRKqaVAJrBzwm2ZSil36Osc4FLg6LmPFTN3unOIn7xUx41rC9m40Do9Ly7kymW5pLpdPLm/yexQ5iMZyxHSNzLOE280ccPawvMeG26kSyty6Bwc5WRbbG3DnMyZ7mG0ZsYJRvHZBCN2dpLEVIKhtfYBdwPbgWPAr7XWR5RS31BKXT/h0tuBR/Vb0+nlwF6l1AHgBeA7EyvWxez90x+OEudUfNEC7cBnIiHOybtX5fOnw63zrlGQ2WQsR85v9zUyMu7no5sXmhbDJYuyAXj1VOzXYYS7cc40wUhPjCM9MS6mZjBiapsqgNb6aeDpc2776jnff22Sx70KrDY0uHnohePt7Djezj3vWUZeWoLZ4czYDWsLeXxfIy+eaGfLqgKzw5lXZCzPXSCgeWRXPetKMi54bLiRijKTKExPYG99Dx+/1NgOomYLJxizaWRWkpVEg9RgCHFhoz4/X3/qCOU5yfyVTV9UNpdnk5Pi5sn9Uy3/C2Fdr5zqpLZziI9uLjU7FDYszGLf6Z6Yr8M43TVEdnI86YlxM35sSVYSDV2yRCLEBf305TpOdw3z1etWEO+y5z81l9PBllV5vHiiQ5ZJhO38fGc92cnxvHe1+bNvVaWZtPZ7aeqNnXfok6nrHKI0O2lWjy3KSqS510sgRnau2fNVX1hea5+XHz1fw9XL87hiaa7Z4czJu1fmMzLu56V51o1Q2FtT7wg7jrXxwY3FuF1Os8NhQ2kmEDzoMJY19oyc3REyU4XpiYz5A3QNjUU4KnNIgiEM8e2nj+ELaL76F9bt2DldF5dnk5bgYvuR+XWegrC3X+yqB+AvLzZ/eQSCx7cnxzvZezp2EwyfP0BLn5eizNklGAXpwTq1lr7YmOWRBENE3O7aLrYdaOauy8opmeVUoZXEOR1cvTyPHcfb8PkDZocjxAWN+vw8tucM71qex4KMRLPDAYLLjetKMtkbwzMYLX1e/AFNcdbs/psXhv5fNcfIMpIkGCKifP4A9247QmF6Ap+6YpHZ4UTMtSvz6R0e57W6brNDEeKCnj7UQtfQGB+xyOxF2IbSTE609sdUO+yJzvQEt5jOdgbjzQTDG7GYzCQJhoioX77WwPHWAb78vhUkxpu/7hsply/xkBDn4E9HWs0ORYgL+vnOespyknlH6BwQq6hamElAw/4zvWaHYojGnuDMQ/EsE4zMpDjcLocskQhxru6hMb73zEk2l2fz3tXRPVDJaInxTi5f4uGZI20xv81O2Nvhpj7eaOjlwxeX4rBYW/41RRkAHGzsMzkSYzR2D+NQUJAxu54/SikKMxJp7pMZDCHe4r7tJxgc9fH1G1bO6BRBu3jX8jxa+70ca5Ej3IV1PbyznsQ4Jx/YEP1zRy4kPTGOspxkDjbG7gxGQXoicc7Z/2ktSE+QGgwhJjrU2Mejexr46OZSluSlmh2OIa5YEjwM68WT7SZHIsTk+obHefJAEzeuK5xVo6doWL0gnUMxOoNxpmeYBZlzK6otzEikRWowhAgKBDT3bjtMVlI8n7l6idnhGCY3LYFVC9J48bj0wxDW9Jt9Z/COB/iwxYo7J1pTlE5zn5eOgVGzQ4m4xp6RWddfhBWmJ9A+4I2JHWuSYIg5+/0bTbze0MsXtiyz7LumSLliSS77GnroG4nNKnhhX4GA5he7G9hQmsnKQvPOHbmQ1aEzUQ41xdYyyajPT2u/l6I5zmAUZCQS0NAWAwmYJBhiTga84/zz/xynsjjDkmu+kXblMg/+gObl6tg/FVLYyyunOqnrHLLc1tRzrVqQjlKxV+jZ0utFa+aeYISabcVCHYYkGGJOfrijms7BUb5+/UrLVawbYW1xJumJcbxwQuowhLWEzx15j8V3cCW7XSzypMRcHUa4B0bxLNuEhy2IoWZbkmCIWatpH+S/XznNrVVFrC3OMDucqHA6FJct8fDiiY6YOZBI2J/Vzh25kNVF6Rxo7IupLd/hHhhzncHIC81gtPXbv9BTEgwxK1prvrbtCInxTj6/ZZnZ4UTVlUs9dA6OcqS53+xQhADgV7sbAPjQRSUmRzI9lUUZdA6O0hoDf0TDznQP43Io8tNm1wMjLNXtIjHOSVu/1GBYjlJqi1LqhFKqRil1zyT3f0wp1aGU2h/6+OSE++5QSlWHPu6IbuT28qfDrbxc08n/vWYJOSlus8OJqstC21X/XCO7SYwkY3l6Rn1+Ht3TwFXL8mbdojraVhcFCz1jqQ6jpc9LXloCrjn0wIBgs628NDftUuRpLUopJ3A/8B5gBXC7Umqy4zwf01qvDX08EHpsFnAvcBGwCbhXKZUZpdBtZWTMzz/94SjL8lMtvR3OKDkpbpblp/JKjRR6GkXG8vT96XArnYNjfGSzfcbisvxUlIJjLbEzC9jSN3K2QHOuctMSZInEgjYBNVrrWq31GPAocMM0H/tu4FmtdbfWugd4FthiUJy2dv8LNTT3efnGDavmnK3b1aWLcth7ugfvuN/sUGKVjOVpemRXPQuzk3inxc4dOZ+keBdl2ckxlWC09Y+erZ+Yq9xUN+2SYFjOAuDMhO8bQ7ed62al1EGl1ONKqeIZPnZeO905xNaXarlxbSGbyrLMDsc0ly7KZtQX4PUYPnraZDKWp+FYSz97TvdY8tyRC1lekBYzbfe11sEZjDnWX4TlpSXQPjBq+yLYWEswJhth5/4fegpYqLVeAzwHPDSDx6KUulMptVcptbejY/6twX/jD0eJcyq+9N7lZodiqk1l2bgcipdlmcQoho9lsP94fnhXPW6Xw5Y9aJblp9LQPRwTR7f3jYzjHQ+QH6EZjLw0N8NjfgZHfRF5PrPEWoLRCBRP+L4IaJ54gda6S2sdrp75CbBhuo8NPX6r1rpKa13l8XgiFrgd7DjWxvPH2/nM1UvIjVCmblcpbhdrizN45VSX2aHEKsPHcug5bDue+73jPPFGE9dXFpKRFG92ODO2vCANgBOt9p/FCO+GiVSCkZsa3qpq70LPWEsw9gCLlVJlSql44DZg28QLlFIFE769HjgW+no7cK1SKjNUEHZt6DYBeMf9fP2poyzKTeFjly40OxxLuGRRDocae6VtuDFkLF/Ar/ecYXjMzx2XLDQ7lFlZXhhMMGKhDqMldLx65Io8gzvz7F6HEVMJhtbaB9xN8MXkGPBrrfURpdQ3lFLXhy77O6XUEaXUAeDvgI+FHtsN/BPBF7Y9wDdCtwlg60u1NHQP8/XrV87pKOJYcmlFNgENu2plFiPSZCyfnz+g+dmrp9m0MItVC6x77sj5FKYnkJbg4mgM1GG09oVnMObWZCssLzRDbPetqi6zA4g0rfXTwNPn3PbVCV9/EfjiFI99EHjQ0ABt6HTnED96oYb3rS7gUhtVqhttXUkmiXFOXq3p5N0rrd2e2Y5kLE/t2aNtNPaM8JX32bcWSikVKvS0/wxGa58XpYK7PyIh/Dx236oqb0XFeWmt+coTh3E7HXz1usnaEMxf8S4Hm8qypNBTRN2Dr9RRlJnINSvsndguL0jjROsAfpu33W/t85KT4o7Y7G6K20VSvP27eUqCIc7ryf3NvFzTyee3LD07bSfedElFNqc6huiw+VSmsI/DTX28VtfNxy5ZiNNmW1PPtaIgjZFxP/VdQ2aHMict/d6I1V9AuJtnAu0DMoMhYlTv8Bjf/ONRKosz+NBF9ukSGE3hXiB7TsfUEr+wsAdfqSM53smtG4svfLHFhXeS2L0fRluoTXgkeVLdtMsMhohV3/3TcXqGx/n2Tats/07JKKsWpJMY5+S1OkkwhPHaB7z84UALH9hQRFpCnNnhzNnivBScDmX7OoxItgkPy0tLoE1mMEQs2nO6m1+9doZPvKOMlYX2rFKPhjingw2lmeyWBENEwS92NTDmD/CxS8vMDiUiEuKclGYncbLNvjMYw2M++r2+iPXACMtLddPW77V1N09JMMTbjPkCfOl3h1iQkchnrl5sdjiWt6ksi+Ot/fQNSz8MYZyRMT8P76rnXctyKctJNjuciFmSm0p1+6DZYcza2S2qEV4iyU1z4x0P0O+1bzdPSTDE2/zohRqq2wf5pxtXkhQfczuZI25TWRZaSx2GMNZv9p2he2iMuy6vMDuUiFqSl0J915BtDw58swdG5GswADoH7VuHIQmGeIsjzX38+IUablq3gKuW5Zkdji2sLc4g3ungNUkwhEF8/gBbX6plQ2kmGxfG1snzi/NSCWio7bDnTpI3u3hGpslWWE5KKMGw8Q41STDEWeP+AH//m4NkJMVzr/S8mLaEOCdrizOkDkMY5o+HWmjsGeGvL69AqdgquF6SlwpAdbs96zDOnkMS4SWSswnG4FhEnzeaJMEQZ/34hVMca+nn2zetsuXhSWbaVJbF4aY+hmx++qGwHq01//niKRbnpvCuZblmhxNxC3OScDqUbQs9W/u8pCfGkRjvjOjzvplgyAyGsLljLf386IVqblhbyLXS9nrGNpVl4Q9oXm/oMTsUEWNePNnB8dYB7rq8AkcMbhd3u5wszE7iZJs9Cz1b+iLbZCssKzkeh5IEQ9jcuD/APzx+gPTEOL523Uqzw7Gl9aWZOB1K+mGIiPuvF09RmJ7A9ZWFZodimCV5qVTbdAajrT/yTbYAnA5FVrLb1l2CJcEQ/OC5kxxu6uebN64mM1mWRmYjxe1iZWGa1GGIiNp5qovddd38n8vKiXfF7sv14rxUGrqHbbmTxKgZDICclHiZwRD2tbu2ix+/eIrbNhazZZUsjczFhtJMDjb2Mu4PmB2KiAFaa77/3ElyU93cvqnE7HAMtSQvhYCGUx32WiYZ8wXoHByN+BbVME+qmw4p8hR21Dcyzmcf28/C7GT+8S9k18hcbSjNxDsesH3bY2ENO0918VpdN5+6ooKEuMgWEFrN2Z0kNqvDCB9GFukdJGE5KW7ZpirsR2vNl39/iPaBUX7wwbUku6Wh1lxtKA32J9hXL4WeYm7Csxf5aQncFuOzFwALs5Nx2XAniVFNtsLCSyR2bRcecwmGUmqLUuqEUqpGKXXPJPd/Til1VCl1UCm1QylVOuE+v1Jqf+hjW3Qjj67fvd7EHw628NlrllBZnGF2ODGhID2RwvQESTAiZD6P5VdquthzuodPXxn7sxcA8S4HZTnJtttJYlSTrTBPqptRX4ABm25/j6m3rUopJ3A/cA3QCOxRSm3TWh+dcNkbQJXWelgp9TfAvwAfDN03orVeG9WgTVDdNsA/PnmYTWVZ/HWMtR022/rSTF6XBGPO5vNY1lrzb8+eoDA9ISaOZJ+uxXkpHGm21/Jim0FNtsImdvO04+m5sTaDsQmo0VrXaq3HgEeBGyZeoLV+QWs9HPp2F1AU5RhNNTTq429+8TpJ8U7+4/Z1cgx7hG0ozaS5z0tz74jZodjdvB3L24+08npDL3/7rsW4XbE/exG2KDeVMzbbSdLS5yUxzklaojHv1e3ezTPWEowFwJkJ3zeGbpvKJ4D/mfB9glJqr1Jql1LqxskeoJS6M3TN3o6OjrlHHEVaa774u0PUdgzy77etM2Tv9nwXrsOQhltzZvhYBuuN53F/gO/+6QSLc1O4ZUNM5EvTVuFJJqChvmv4whdbRGtoi6pR7dvt3s0z1hKMyf4vT1odo5T6MFAF3Dfh5hKtdRXwIeAHSqm3rR9orbdqrau01lUejycSMUfNI7sb2Hagmc9ds4RLF+WYHU5MWl6QRkKcg9fre80Oxe4MH8tgvfH8y90N1HUO8cX3LsPljLWX5/Or8KQA9tqq2mpQk62wnNRgXyJJMKyhEZi4aFkENJ97kVLqauDLwPVa67P/57TWzaHPtcCLwDojg42mvae7+aenjnLlUg+fumKR2eHErDing8qiDPbJDMZczbux3O8d5993VLO5PJsrl8bemSMXUu5JBqDWTgmGgU22ALKT3TgUtu3mGWsJxh5gsVKqTCkVD9wGvKWCXCm1Dvh/BF+Q2ifcnqmUcoe+zgEuBSYWlNnWme5h7np4HwsyE/n+B9fG5HkGVrKhNJMjTX22Wku2oHk3lu9/vobuoTG+9N7lMXdi6nQkxbsoTE/glE2ObQ8ENG39XsO2qEK4Xbh9u3nGVIKhtfYBdwPbgWPAr7XWR5RS31BKXR+67D4gBfjNOVvYlgN7lVIHgBeA75xTsW5Lg6M+PvnQXsb9AR64o0pOSY2CDaWZ+AKag419ZodiW/NtLJ9sG+CnL9dxa1URq4vSzQ7HNBW5KbZZIukcGsUX0IYmGBCsw+gYsGeRZ0xtUwXQWj9bh4ZRAAAgAElEQVQNPH3ObV+d8PXVUzzuVWC1sdFFlz+g+cyjb1DTMcjPPr7x7BqnMNa6kjcbbm0qyzI5GvuaL2NZa80/PnGYZLeLL2xZZnY4pqrwpPCbvWfQWlt+Fudsky2Di+VzUtwygyGsRWvNvdsO89yxdr76Fyt452LzC9jmi6zkeMpzkqXhlpiWJ/c3s7uum89vWUp2aNfAfFXuSWZozE+7DWoOjG6yFWbnA88kwYhR/76jmkd2NXDXZeXccclCs8OZd9aXZvJ6Q49tW/yK6OgdHuObfzxGZVE6t22M/ZbgF3J2J0m79ZdJzjbZMniJxJPqtm27cEkwYtAju+r5wXPV3Ly+iHveM7+nXM2yviST7qExGrrts6dfRN/Xth2hd3iMb920WpreYa+tqi19XuKciuxkY+vaclLceMcDDNqwXbgkGDHmyf1N/OOTh7lqWS7fuXm15dcxY9Xa0Pku+89IPwwxuT8dbuWJ/c18+spFrFowfws7J8pLc5Mc77TFTpLWPi+5qQmG78qzczdPSTBiyBNvNPHZx/azaWEW939oPXHzrFGPlSzJSyExzskbDZJgiLfrHhrjK08cYkVBGndfJX1pwpRSlHvssZPE6B4YYTmp9u3mKX+BYsTv32jkc7/ez0Vl2fz3xzeSGD9/zjCwIpfTweoF6RxolARDvFUgoPmH3xygb2Sc791aKW8EzlHhSabWDjMY/V7yopFgpIS6edqg8PVc8i87BvxydwOf+/UBLi7P5sGPbSQpPuZ2H9vS2pIMjjT3M+YLmB2KsJCtf65lx/F2vvK+FSwvSDM7HMup8KTQ1DvC8Jh1aw601rT0jVAQhfOcPDY+j0QSDBvTWvNvz5zgS78/xBVLPPz0Dpm5sJLKogzGfAGOtdjrCGphnD2nu7lv+wnet7qAj24uNTscS6rIDRZ6WnkWo3/Eh3c8YPgOEghuewepwRBRNOYL8PnHD/LD52u4bWMxP/lolSQXFrO2JFjoKcskAoIt+//mkX0UZybyz1KAPaXwmSRWrsNo6R8BjN+iCsHl1sykOJnBENHR3u/lQz/ZxW/2NfKZqxfzz+9fPe9OXrSDwvQEPKlu9kuh57zXNzLOx3+2hzFfgAfu2EhaQpzZIVnWwuxklLL2DMabTbaMTzDAvt08ZbHeZvae7uZvfvE6g14f/3H7Oq6rLDQ7JDEFpRSVRRmyVXWe8477+ZtH9nG6c4iff2ITi3KlZf/5JMQ5Kc5MsvQMRlu4TbjBXTzDclLcdMkSiTDKuD/A9589yQe37iI53skTn75UkgsbWFeSQW3nEH3D42aHIkzgHfdz58P72FnbxX23rOGSihyzQ7KFCk8yNRbu5tnS50UpyE2NTmv3bJu2C5cEwwZq2ge4+T9f5d93VHN9ZSFP3v0Oluanmh2WmIZwwy2pw5h/hkZ93PXwPl462cF337+Gm9YVmR2SbZR7UjjdNUQgYM322K19XnJS3FHbYhxcIrHfDIYskVjY4KiP/9hRzYOv1JHidvHjv1zPe1cXmB2WmIHVRekoFezoedkSOXBuvmjv9/JXD+3haHM/3715NbduLDY7JFsp9yTjHQ/Q3DdCUWaS2eG8TWt/dJpshXlS3QyO+vCO+0mIs08xvyQYFjTmC/CbfWf44Y5q2vpHuWVDEZ/fsgxPlKbjROSkJcRR4UnhgNRhzBu7a7v4/x7dT793nJ/esZErl+WaHZLtlOe8uVXVkglGn5eS7OjFlX12q+qoJf97TCXmlkiUUluUUieUUjVKqXsmud+tlHosdP9updTCCfd9MXT7CaXUu6MZNwRnLB7eeZor//VFvvz7wxSkJ/K7T13CfbdUSnJhY2uLg4WedjwN0Ux2G8sjY37u236c23+yi4Q4B7/5682SXMxSRWiral2nNXeStPSNRHUGw67nkcTUDIZSygncD1wDNAJ7lFLbtNZHJ1z2CaBHa71IKXUb8F3gg0qpFcBtwEqgEHhOKbVEa+03MmZ/QPN6Qw+/f6OJJ99oYmjMz7qSDL79/tVctjhH9srHgMriDB7f10hjzwjFWfZ592EmO43lcX+Apw40871nTtLUO8LN64v4+g0rSXHH1MtrVHlS3aS4XdRacCfJ8JiPfq8vKj0wwsLnkXTZrNAz1kbAJqBGa10LoJR6FLgBmPiidAPwtdDXjwM/UsG/4jcAj2qtR4E6pVRN6Pl2RjLAcX+Aus4h3mjoYc/pHl443k7X0Bhul4PrKgv50EUlrCvOkMQihqybcLKqJBjTZumxHAhojrX2s/1wK4/va6S5z8uy/FQevfNiLi7PjtSPmbeUUpTlJFNrwRmM1vAW1Si0CQ+buERiJ7GWYCwAzkz4vhG4aKprtNY+pVQfkB26fdc5j10wl2D21Xez9aVahsf8DI/5ae3z0tI3QrgwOiMpjssWe7hmRR5XLPWQKs13YtLS/FTcLgf7z/TG3Nbi7qExMhLjjDiy2lJjGeDrTx2hrnOInqExqtsHGR7z41CwuSKbb960iiuW5Bp+dPd8Uu5JZu/pHrPDeJuzCUaUizxBlkjMNtnoPnfhe6prpvNYlFJ3AncClJSUnDeY4TE/dZ1DJMa7SIpzsnFhJiVZCyjzJLO2OJOF2UkyUzEPxDkdrFqQHpMNtz7wn6+yvDCN+z+0PtJPbfhYhpmN5zPdw3QPjZGeGMetVcWsWpDOFUs9Z9fHRWSV56Tw5P5mRsb8ljoGobU/3MUzOk22INh8LMXtMnQGo6Z9gJerO7lpfRHpiZF5sxtrCUYjMHE/WBHQPMU1jUopF5AOdE/zsWittwJbAaqqqs5btffOxR6e+ezlM/wVRCxaW5zBI7vqGfcHYuZ47nF/gIbuYbasyjfi6Q0fyzCz8fzAHRtnEL6Yq/IJhZ4rCq1z6myLCUskEG62ZdwMxp7TPXztqaNcuzI/YglGbLzSvWkPsFgpVaaUiidY6LXtnGu2AXeEvv4A8LwOlvdvA24LVaaXAYuB16IUt4hxa4szGPUFON4yYHYoEdPYM4IvoCnLSTbi6WUsz3PhBKO201qFnq19XtIT46I+q5KT4qZzwLgZjJ7hYPKSmRQfseeMqRmM0Drs3cB2wAk8qLU+opT6BrBXa70N+CnwcKjwq5vgCxeh635NsIjMB3za6B0kYv6Y2NFzdVG6ydFERl3ohT/8hyCSZCyLcOJqtUPPot1kKywnJd7Qbbs9Q2MkxDkimjjFVIIBoLV+Gnj6nNu+OuFrL3DLFI/9FvAtQwMU81JRZiLZyfEcONPLhy8uNTuciAi/8IebIkWajOX5LSneRWF6guW2qrb2ecmL8vIIQHaKmz0GFr32DI9HdPYCYm+JRAhLUkpRWZwRU2eS1HYOkZEUR2ZyZF+UhAgr96RYbqtqS59ZMxhueobH8PkDhjx/7/AYGZJgCGFPlUUZVLcPMuCNjZNV6zqGjKq/EAIILr/VdgxZpgvumC9A19BoVLeohnlS4tEauoeNKfTsHhojKzmyrRIkwRAiSiqL09EaDjX1mR1KRNR1SoIhjFWek8zgqI8OA4sbZ6J9wIvW0d9BAsElEoDOAWMSjN7hcZnBEMKuKotChZ5n7J9gDI36aO33Ui4JhjBQuSdY33PKIoWeZjTZCnvzPBJjkq2e4TEyk2QGQwhbykyOpzQ7KSZOVg1Xs1d4jCnwFAKst1XVjCZbYTkpwdmFrqHIJxj+gKZ3ZJwsmcEQwr4qi2Kj0PNUqLK/IlcSDGGcwvREEuIcltmqasY5JGFGLpH0j4yjNbJEIoSdVRZn0NLnpS30TsiuTnUM4VBQmi2HtwnjOByKhdnJltmq2tLnJSneSVpi9Ds8pCW4iHc6DFkiOdtkS4o8hbCvtcXBJlt2XyY51TFIUWYSbpd1zogQsanCQltVW/u85KcnmHKGlFKKHIPahRvRxRMkwRAiqlYWpuNyKNsvk9R2DFFhQAdPIc5V7knmTPcwoz7zm7E2942Y0gMjLCfVbcwMxlBw67wkGELYWEKck2UFqbbeSRIIaOo6B89W+AthpHJPMgEdPM3WbK19XvLTol/gGZadHG/oEklWhJvmSYIhRJSFCz0DAWs0D5qp5r4RvOMB2UEioiLcit7srao+f4D2gVFzZzBS3HQZuESSIdtUhbC3yuIMBrw+y6wrz9TZM0hkiUREwdmtqiYnGJ2DY/gDmoIMc5dIuoZGI97ZtGd4HJdDkeKObPGqJBhCRNnZk1VtWuh5douqzGCIKEhNiMOT6jZ9J0lL3wiAqTMY2cnxjPs1fSORPW6gZ2iMzOT4iBevSoIhRJRVeFJIjnfattCztmOI1ATX2cY/QhitPCfZ9Bm/N3tgmFeD4UkNd/OM7DKJEV08QRIMIaLO6VCsLkq39QxGhSfFlK16Yn4KHnpm9gxGuIunuTUYEPl24T0GnEMCkmAIYYrK4gyOtvRbYuvdTNV2DEn9hYiq8pwUeobH6Rky5qCv6WjpG8HtckS8EHImskOzhhFPMIbGIt4mHGIowVBKZSmlnlVKVYc+Z05yzVql1E6l1BGl1EGl1Acn3PczpVSdUmp/6GNtdH8DMZ+sLcpg3K851jJgdigzMhg65MzI+gsZy+JcVjiTpKXPS4FJTbbCwjMYkd5J0jM8HvEunhBDCQZwD7BDa70Y2BH6/lzDwEe11iuBLcAPlFIZE+7/B6312tDHfuNDFvNVpU0LPes6woecGTqDIWNZvIUVTlVt7fOacsjZRJlJ8ThUZGcwtNb0Do/JEskF3AA8FPr6IeDGcy/QWp/UWleHvm4G2gFP1CIUIqQgPYHcVLftEozwO0iDm2zJWBZvUZyZSJxTmbpVNTyDYSanQ5EV4WZbA6M+fAEtSyQXkKe1bgEIfc4938VKqU1APHBqws3fCk23fl8p5TYuVDHfKaWoLM5gv812kpxqH4zGIWcylsVbuJwOSrKSTCv0DAQ0bf3Bc0jMlpPijugukt5Qm3AjaktslWAopZ5TSh2e5OOGGT5PAfAw8HGtdSB08xeBZcBGIAv4whSPvVMptVcptbejo2MOv42Y79YWZ1DbMRTxPe1GOtU5RHHW3A85s8JYDj1exrNNlJt46Fnn0Ci+gDZ9BgPCCUbkZjCMOugMIPpnzs6B1vrqqe5TSrUppQq01i2hF532Ka5LA/4IfEVrvWvCc7eEvhxVSv038PdTxLAV2ApQVVVlz17PwhIqi4IlAwcbe3nnYnvM7p9qH4xIgacVxnLoWhnPNlHuSebFE+34/AFczui+Nz7bA8PkGgwI7iSpb4hcotUd2pmTZUBfG1vNYFzANuCO0Nd3AE+ee4FSKh74PfBzrfVvzrmvIPRZEVzzPWxotGLeW11kr6Pbg4ecDVGeY/gWVRnL4m0qclIY92sae0ai/rObe83vgREW6fNIukIJRnaEDzqD2EowvgNco5SqBq4JfY9Sqkop9UDomluBy4CPTbKF7RdKqUPAISAH+GZ0wxfzTXpiHOWeZPbb5GTVpt4RRn0BKnINbxEuY1m8jZlbVVst0CY8LCfFzfCYn+ExX0Ser3souNwS6ZNUwWZLJOejte4C3jXJ7XuBT4a+fgR4ZIrHX2VogEJMYm1RBi9Vd6K1tnxnzPD6t9EzGDKWxWTCO5dqO4a4all0f3ZLv5d4p8OQP8IzdbbZ1sAYJdlz/xPeNTRGnDPyB51BbM1gCGE7lcUZdA6Onm1DbGXVbcGmYIvzUk2ORMxHWcnxZCTFmdILo7UvuIPECm8CPOF24UORKfTsHhwjy4CDzkASDCFMZaeGW9Vtg2Qnx1viXZyYn8pzzDmTpKXPGltUYcJ5JAORSTB6hsfISjZmJ7ckGEKYaHlBKvFOhy36YVS3D7A4T45oF+Yxa6tqqwWabIW9eR5JZAo9u4bGDCnwBEkwhDCV2+VkeWGa5WcwtNZUtw2yOFeWR4R5yj3JdAyMMuCNXu+YQECfXSKxgnCC0RWhXhjdQ2OGzUpKgiGEydYWpXOosQ9/wLptGFr7vQyM+lgiMxjCROU5wX9/dVGcxegcHGXMH2BBhvk9MCD4piQtwRWxZlvhGgwjSIIhhMkqizMYGvNzyqQ2yNNR3RaMbZHMYAgThQ/Zi+aZJE29wS2qVkkwIHLtwkd9fgZGfbJEIkSsChd67m+w7jLJydAOEpnBEGYqyU7CoYhqoefZBCPTagnG3GcwekLnkBjRxRMkwRDCdGXZyaQmuCxd6FnTPkhWcjzZKXJumDCP2+WkOCuJU1FcImnqseAMRmpkTlTtCm11lRkMIWKUw6GoLMqwdKHnybYBFhvfwVOICwpuVY3uEklagovUhMifNjpbkVoiOXsOiWxTFSJ2VRanc7x1AO+43+xQ3kZrTXX7oGxRFZZQ7kmhrnOQQJSKopt6RliQmRSVnzVd2clu+kbGGfMFLnzxebyZYMgMhhAxq7IoA39Ac6TZeueStPWPMuD1sUQ6eAoLKMtJxjseoKU/Ot1vm3pHLLU8AsElEngzQZitbgMPOgNJMISwhLXhQk8LHnxW3R4s8FwkSyTCAs4eehalQs+mnhEWZFijB0bY2W6ec6zD6B4aw6GCBy8aQRIMISwgNy2BwvQES9ZhnAxtUZUZDGEFFRMOPTNa38g4A6M+S+0gAcg5281zbglG19AYmUnxOBzGnLEiCYYQFlFZnMEBC+4kqWkfIDMpzrBpVCFmIjfVTXK8MyozGG/uILFWDcabMxhzXCIxsMkWSIIhhGVUFmdQ3zVMzxzXVSPtZNsgi/NSLXGSpBBKqaidSWLFHhgQ2SUSSTCEmAcqi0J1GBaaxdBayxZVYTnlnuhsVW3qGQas1QMDICneSUKcY87nkXQNjZ4928QIMZNgKKWylFLPKqWqQ58zp7jOr5TaH/rYNuH2MqXU7tDjH1NKyXywiKrVRekoZa2j2xt7Rhjw+lhekBa1nyljWVxIeU4KTb0jjIwZu627uc+L2+U4W/NgFUqpiPTCkBmM6bsH2KG1XgzsCH0/mRGt9drQx/UTbv8u8P3Q43uATxgbrhBvleJ2sTg3xVIJxvHW4A6SaCYYyFgWFxDeSWL0oWfBHSSJllwenGu7cH9A0zsybliTLYitBOMG4KHQ1w8BN073gSr4r+cq4PHZPF6ISFlbnMH+M71obY2TVY+19AOwND+qO0hkLIvzOrtVtdPYQs/G3hHL1V+E5aTEz2kGo2d4DK2N64EBsZVg5GmtWwBCn3OnuC5BKbVXKbVLKRV+4ckGerXWvtD3jcCCyR6slLoz9Pi9HR0dkYxfCDaUZtIzPM6pKLZCPp/jrf2UZieR4nZF88dGZSyDjGe7KsuJzqmqTT0jFKZbNcGY2wxGx0DwsZ5U42YwovqqMVdKqeeA/Enu+vIMnqZEa92slCoHnldKHQL6J7lu0reQWuutwFaAqqoqa7zNFDGjamEWAHtPd1uisdWxlgGW50d+ecQKYxlkPNtVUryLwvQEQ7eqesf9dA6OWngGw0330BiBgJ5VH4twciIJRojW+uqp7lNKtSmlCrTWLUqpAqB9iudoDn2uVUq9CKwDfgtkKKVcoXc+RUBzxH8BIS6gPCeZrOR49tb3cNumElNjGR7zcbpriBvWFkb8uWUsi7kyeqvqme7gDpLSbGv1wAjLTomfUEcx82WOszMYBp6QHEtLJNuAO0Jf3wE8ee4FSqlMpZQ79HUOcClwVAcXvF8APnC+xwthNKUUG0oz2VffY3YonGgdQOuoF3iCjGUxDeWeZOo6hgyrV6rvCiYYxVnWTDDCvTDCicJMRWOJJJYSjO8A1yilqoFrQt+jlKpSSj0QumY5sFcpdYDgi9B3tNZHQ/d9AficUqqG4DruT6MavRAhVaWZ1HUOzfqFI1KOtQR3kKyIfoIhY1lcUHlOMgOjPjrm2AtiKg3hGQyLJhh5acHzUdpmeehbx8AoiXFOkg2sr7LVEsn5aK27gHdNcvte4JOhr18FVk/x+Fpgk5ExCjEd4TqMffU9bFk1WZlCdBxv7SfF7Yp6kyEZy2I6yiecSZKbGvnDyBq6h0lxuwztEzEX+aEEo3W2CcbgqKGzFxBbMxhCxIRVC9KIdznYe7rb1DiOtfSzLD/VsIOQhJiLN09VNaYOo6F7mOKsJEv2wADITQsmB219s0swOiXBEGL+cbucrC3KYK+JdRhaa463DJhRfyHEtBSmJ5IQ5zBsJ0l915Bll0cAEuKcZCbFzX4GY2DU0AJPkARDCEvasDCTw019hrdCnsqZ7hEGRn0sK5Aj2oU1ORyKhdnJhuwkCQQ0Z3pGKLHoDpKwvLSEOdVg5KQau/wjCYYQFrRxYSa+gDbt+PZDTX0ArFmQYcrPF2I6KjwphsxgtA14GfMFKLHwDAZAfnrCrGYwxnwBeobH8aREvnZlIkkwhLCg9SXB873M2q56sKmXeKeDJfnmN/sSYirlnmTO9Iww5gtE9HnDW1St2gMjLD8tgda+me+i6RoyfosqSIIhhCVlJMWzODeFPSYVeh5u6mNZQSpul9OUny/EdJR7kvEHNA3dkV0mCW9RtfoMRl5aAl1Do4z7Z5ZgdQ4EzzCRBEOIeWpjWRZ7T/fgm+GLx1xprTnY2MfqBelR/blCzNTi3GCN0InWyC6TNHQN43QoCqO8RXum8tMT0BraZ9gzp2MwuKwiCYYQ89Tm8mwGR30cbp7seA3j1HcNM+D1SYIhLG9RbgpOh+J4a2THSH33MIUZCcQ5rf0n8mwvjBluVQ038ctJkSJPIeali8uzAdh5qiuqP/dgqMBzdZEkGMLaEuKclOckc6wlsglGXecgZTnWrz+abTfPNxMMmcEQYl7ypLpZnJvCztroJhiHGnuJdzlYkidbVIX1LStIO9vWPhK01tR2DFEeOhLeyvLTZzeD0T4wSlqCi4Q4Y2usJMEQwsI2V2Sz93T3jIu45uJQUx8rCtIsPz0sBMDyglSaekfo945H5Pla+70Mj/mpyLX+DEZmUhzxLseMZzBa+rxRqS+RVxAhLGxzeTbDY34ORqkfhj+gOdzUL/UXwjaW5we7zR6P0CxGuPV4hQ1mMJRS5KW5Z9wLo7XPe3b2w0iSYAhhYRdFuQ7jZNsAg6M+1pdKgy1hD+Fus5Eq9DwVatxlhxkMCPfCmPkMRoEkGELMb1nJ8SzLT41aHcbrDcHGXhtKsqLy84SYq/y0BDKS4iJW6FnbMURyvJNcg7dwRkpe2sy6eY75AnQOjpKfJkskQsx7wTqMHkZ9xp9Lsq++h5wUN8VZ1t7/L0SYUopl+akRK/Q81TFIuSfFsqeonmtBZiLNvSMEAnpa14frNWQGQwjB5vJsRn0BXq83vg7j9foeNpRm2ObFVQiA5QVpnGgdmPYf2fOp7RiiwmP9+ouwoswkxv162s22wrMdUoMxA0qpLKXUs0qp6tDnzEmuuVIptX/Ch1cpdWPovp8ppeom3Lc2+r+FEG+3uSIbl0PxUnWHoT+nc3CU013DZ89BMYuMZTFTy/PTGBn3Ux9q8T1bI2N+mnpHKPfYo/4CoCgzONvY1Du9372lT2YwZuMeYIfWejGwI/T9W2itX9Bar9VarwWuAoaBZyZc8g/h+7XW+6MStRAXkJoQx4bSTP73hLEJxuuhg9U2lJqbYCBjWczQisLgTpLDoSZxs3W2wNNOCUZou2ljz8i0rm/tC14nMxgzcwPwUOjrh4AbL3D9B4D/0VrPLeUVIgouX+rhaEs/7bM4mnm69jX0EOdUrDJ/i6qMZTEjS/JSiXc6ODTHBON4a7COY2m+fZrMLcicWYLR0uclxe0iNSHOyLCA2Eow8rTWLQChz7kXuP424Ffn3PYtpdRBpdT3lVKTlhArpe5USu1VSu3t6DD2HaUQYVcsCf5z/t+Txv2b213bzZqiDMO7+01DVMYyyHiOFfEuB8sL0zhwZm51Sida+3G7HCy0+DHtEyXFu8hOjp/BDIaXvLTo7JCxVYKhlHpOKXV4ko8bZvg8BcBqYPuEm78ILAM2AlnAFyZ7rNZ6q9a6Smtd5fF4ZvmbCDEzywtS8aS6edGgBKPfO87Bxl4urcg25PnPZYWxDDKeY0llUTqHm/rwz6HQ83jrAIvzUnDZrIvtgsxEGnumN4HX3OelID06u8RcUfkpEaK1vnqq+5RSbUqpAq11S+hFp/08T3Ur8Hut9dnesuF3TMCoUuq/gb+PSNBCRIBSisuXeHj2aBs+fyDiL4B76roJaNhckRPR552KjGURaWuKMvj5znpqOwZZPMtzdI63DnDZYvslmkWZidPuZNrUM8JVy6LzO9orTTu/bcAdoa/vAJ48z7W3c86UauiFDBXcn3cjcNiAGIWYtSuWeugbGWf/HKeBJ/PqqS7iXQ7WlViig6eMZTFjlaHTfw80zq4Oo2twlI6BUZYX2Kf+ImxBRiJNvSNoff7Zm+ExH52Do5RmR2cbbiwlGN8BrlFKVQPXhL5HKVWllHogfJFSaiFQDPzvOY//hVLqEHAIyAG+GYWYhZi2dy72EOdUPHO0LeLP/eqpLqpKM61QfwEylsUslHtSSIp3zvrcnhM2LPAMK8pMYtQXOHsM+1TOdAfrNIqzolNjYqslkvPRWncB75rk9r3AJyd8fxpYMMl1VxkZnxBzlZ4Yx+aKHLYfaeWL71kWsWZYPUNjHGvp5++vXRKR55srGctiNpyO4A6og7OcwThm4wSjJFSUWt89TG7a1NtPG0J9QkqilGDE0gyGEDFvy8p86ruGz26ni4SXazqB6NVfCGGUdcUZHG3uxzs+87b6Bxt7yU9LIDfV+P4QkVYeOvm1LnQS7FQkwRBCTOmaFXkoBduPtEbsOZ8/3k5mUhxriy1RfyHErG1cmMWYPzCrOqWDjX1UFpveA2ZWijKTiHMqTnUOnve6M93DpLhdZCYZ3wMDJMEQwlY8qW6qSjPZfiQydRj+gOaFE+1cuTQXp0POHxH2tnFhFkrBa3XdM3pc7/AYdZ1DrCmyZ5LtdChKs5OnNYNRnJUUtQjCG8MAABBSSURBVLOGJMEQwmbevTKfYy391Hac/93KdLzR0EPv8DjvWp4XgciEMFd6UhxL81LZc3pmCUa4bsPOs3hlOcnUdV44wSiJ4knJkmAIYTPXVRbiUPDEG01zfq4dx9txORTvXCL1FyI2bCrLYl99D+P+wLQfE955srrInkskEKzDqO8anrLRmD+gQwlG9LqUSoIhhM3kpSVw6aIcfvdG05yOp9Zas/1IKxeVZ5EWhXMJhIiGTWVZDI/5OdLcP+3H7D/TS7kn2dbjoNyTzJg/QNMULcPPdA8z5guwODd6u2QkwRDChm5eX0Rjz8iMp4InOtLcT23HEH+xpjCCkQlhrk1lWQC8eqpzWtf7A5rX6rrZWJplZFiGCx8xX9Mx+Q6zk23B2xfnRe+kWEkwhLCha1fmkRTv5LevN876OZ460IzLodiyMj+CkQlhrtzUBFYUpPHiiemd23OspZ9+r4/NUTqHxyjh/h3HpmgZXt0erNlalCsJhhDiPJLiXfzFmgKeOtBC3/D4hR9wjkBA89SBZi5b4iEzOd6ACIUwz5XLPOyr76Fv5MJjY+epLgDbJxhpCXEUZyVytGXypaGa9kEK0hOickx7mCQYQtjUHZcsZGTcz2N7G2b82JeqO2ju83Ljurc1whTC9q5cmos/oHm5+sLLJDtruyjPSSbvPB0w7WJFQRrHpqg9Odk2MOtD4GZLEgwhbGplYTqbyrJ46NX6GR9R/ciuBnJS4mV5RMSktcUZpCfGseP4+fvFeMf97Krt4tJFsbGLanlBGnVdQwyP+d5y+6jPz8m2AZZHuQ26JBhC2NhfXbqQpt4R/nio5cIXhzT1jvD88TY+uLGYeJe8BIjY43I6uHp5Hs8eaTtv2/BXajoZHvNzzYrY6AOzqjAdreFw01tnMY63DDDu11RGuc+HvLoIYWPXrshnaV4qP3juJL5p7vv/yUu1OJTi9k0lBkcnhHluXFfIwKiP54+3T3nNM0faSHW7uLjc3vUXYVULMwF4ra7rLbcfCPX5kARDCDFtDofis9csobZjiN+9fuHGW619Xn75WgM3ry+iKDN6DXeEiLZLKnLwpLqnHBcjY36ePtzC1SvyYmYmLyMpnmX5qew+p1X6vvoeclLcFKZHt84kNv6rCjGPvXtlHutLMvjn/zlG1+Doea/9l+3H0Vpz91WLohSdEOZwOhQf2FDE88fbOBM6RXSipw+1MOD18cGNxSZEZ5yLzulkGgho/lzdyTsWZUftDJKwmEkwlFK3KKWOKKUCSqmq81y3RSl1QilVo5S6Z8LtZUqp3UqpaqXUY0op2bsnbEEpxXduXsPgqI97tx1B68kLPl+u7uR3rzdx12UVFEexXfBMyVgWkXLH5oU4HYqf/Ln2LbdrrfnvV+soy0nmojJ7N9g61zsWexge8/NKTXAHzZHmfrqHxrhsiSfqscRMggEcBt4PvDTVBUopJ3A/8B5gBXC7UmpF6O7vAt/XWi8GeoBPGBuuEJGzJC+Vz1y9hD8cbOHHL5562/2NPcN85rE3KPck22H2QsayiIj89ARuqSrmF7sbONH6ZgOqpw+1cripn09dURH1d/VGu2xJDmkJLrbtbwZg24EmXA7F5ZJgzJ7W+pjW+sQFLtsE1Gita7XWY8CjwA0q+C/sKuDx0HUPATcaF60QkfepKyq4rrKQ+7af4Ft/PMrQaHCr2p7T3dz6XzsZ9QXY+pEqEuKcJkd6fjKWRST9w7VLSUtw8Xe/eoOuwVHqOof4xycPs6IgjZtisA+M2+XkuspC/nCwhYONvfx6byNXL88jO8Ud9VhcUf+J5loAnJnwfSNwEZAN9GqtfRNuj71/eSKmKaX4t1srSU908ZM/1/HznfVkJcfT0uelMD2BR++8OKptgg0mY1lMS2ZyPD/60Ho+/t97eMd3X8Af0CS7nfzw9nW4nDHzHvstPnXlIp54o4nrf/QKrlAhuBlslWAopZ4DJusM9GWt9ZPTeYpJbtPnuX2yGO4E7gQoKZFtfsJa4pwOvnnjat6/vog/HGihd3iMNUXp3LqxmKR46wx3K4zlUBwynueBSxfl8NTfvoOf7zyN2+Xk45cutHQd0lwtyEjkF//nYn61u4H3rik4e05JtFnnFWcatNZXz/EpGoGJJcNFQDPQCWQopVyhdz7h2yeLYSuwFaCqqmr2Z2ULYaD1JZmsL8k0O4wpWWEsh+KQ8TxPLM1P5Vs3rTY7jKhZW5zB2ij3vThXbM4PTW0PsDhUZR4P3AZs08Gy+xeAD4SuuwOYzrsoIYQ5ZCwLYXExk2AopW5SSjUCm4E/KqW2h24vVEo9DRB6R3M3sB04Bvxaa30k9BRfAD6nlKohuI7702j/DkIIGctCxAo11Z55cWFVVVV67969ZochhOUppfZprafsaWEFMp6FmJ7pjueYmcEQQgghhHVIgiGEEEKIiJMEQwghhBARJwmGEEIIISJOEgwhhBBCRJzsIpkDpVQHUH+By3IINv+xI7vGLnFH13TiLtVaR/+0pRmI8fEscUdXrMc9rfEsCYbBlFJ7rb49byp2jV3iji67xj0bdv1dJe7okriDZIlECCGEEBEnCYYQQgghIk4SDONtNTuAObBr7BJ3dNk17tmw6+8qcUeXxI3UYAghhBDCADKDIYQQQoiIkwQjQpRSW5RSJ5RSNUqpeya5362Ueix0/26l1MLoR/l204j7Y0qpDqXU/tDHJ82I81xKqQeVUu1KqcNT3K+UUj8M/V4HlVLr///27jVWquoM4/j/kYtisVCljRakQGtS0SgFJFxqY4NpjamSVlJoqIIxNbUa9ENt1bRg+VINpqYttVRqU7xEQdQGUdGqVRSRSynXYgVv4USahqsQqXrw7Ye9DozD3HrOZmYOPL9kwt5rr9nz7nVmMe9ea8059Y6xlBrivkDSnoL2nlbvGEuRdLqkv0naJGmjpOtL1GnKNm8P9+f6cV+ur7r25Yjwo4MPoAvwBjAI6A6sBQYX1fkRMDttTwTmdZK4pwCzGh1ridi/BgwFNpQ5fjHwFCBgJLC80THXGPcFwKJGx1kirtOAoWn7JOD1Eu+Vpmzzdlyr+3N943Zfrm/cdevLHsHIxwhgS0S8GREfAg8B44rqjAPmpu0FwFhJqmOMpdQSd1OKiCXAzgpVxgH3RuZVoLek0+oTXXk1xN2UImJbRKxO23uBTUDfompN2ebt4P5cR+7L9VXPvuwEIx99ga0F+y0c/gM7WCciWoE9wCl1ia68WuIGuCwNky2QdHp9QuuwWq+tGY2StFbSU5LOanQwxdJ0wFeA5UWHOnObF3J/bi6d+X11TPdlJxj5KHXnUvz1nFrq1FstMT0ODIiIc4BnOXTX1uyasb1rsZrs1/CeC/wW+EuD4/kEST2BR4AbIuK94sMlntIZ2ryY+3Nzaca2rsUx35edYOSjBSi8E+gHvFuujqSuQC8aP7xWNe6I2BERH6TdOcCwOsXWUbX8TJpORLwXEfvS9pNAN0l9GhwWAJK6kf2H9EBEPFqiSqds8xLcn5tLp3xfuS87wcjLSuAMSQMldSdb9LWwqM5CYHLaHg88H2k1TQNVjbto3u1Ssvm6zmAhcEVaDT0S2BMR2xodVDWSTm2by5c0gqyP7mhsVNmqcuAeYFNE/KpMtU7Z5iW4PzeXTvm+cl+Grh2I05KIaJV0HfA02UruP0XERkkzgFURsZDsB3qfpC1kdzoTGxdxpsa4p0q6FGgli3tKwwIuIOlBslXafSS1ANOBbgARMRt4kmwl9BbgfeDKxkT6STXEPR64RlIrsB+Y2AQfXABjgMuB9ZLWpLJbgP7Q3G3+/3J/ri/35bqrW1/2b/I0MzOz3HmKxMzMzHLnBMPMzMxy5wTDzMzMcucEw8zMzHLnBMPMzMxy5wTDzMzMcucEw8zMzHLnBMPMzMxy5wTDzMzMcucEw8zMzHLnBMPMzMxy5wTDzMzMclc1wZC0r2h/iqRZVZ5zsI6kWyX9uJZgJPWWtKPgT9yOkhSS+qX9XpJ2SjpO0gxJF5Y4xwWSFtXyemViuKWGOh16jaJz/VnS+BzOs1jS7kpxSTpe0jxJWyQtlzSg4NjNqfxfkr7Z0XjMzOzY1lQjGBGxG/g3cGYqGg38I/0LMBJYHhEfR8S0iHj2CIRRNcFoUjPJ/gRvJVcBuyLiS8CdwO0AkgaT/bnps4CLgLskdTmCsZqZ2VGuQwmGpM9KekTSyvQYU6X+EEmvSlon6TFJnylRbSmHEorRZB+EhfuvpHMdvPOXdJGk1yS9DHynKL6/Slot6Q+S3pHUJx37vqQVktakY10k3Qb0SGUPSPqUpCckrZW0QdKEKtd3pqQVBfsDJK1L29NSG22QdHfbKE1eIuI5YG+VauOAuWl7ATA2xTEOeCgiPoiIt4AtwIg84zMzs2NLLQlG2wfuGklrgBkFx34N3BkR5wGXAX+scq57gZ9GxDnAemB6iTqvcCihGAQ8DAxP+6PJEpCDJJ0AzAEuAc4HTi04PB14PiKGAo8B/dNzzgQmAGMiYghwAJgUETcB+yNiSERMIrubfzcizo2Is4HFlS4uIjYB3SUNSkUTgPlpe1ZEnJfO0wP4VqVzSbqxsN0LHr+p9Lwq+gJbU6ytwB7glMLypCWVmZmZtUvXGursTx/CQLa+gkMf+BcCgwtuxj8t6aRSJ5HUC+gdES+morlkyUOxpcBNkgYCb0fEf5XpCQwDVhTV/zLwVkRsTq9zP3B1OvZV4NsAEbFY0q5UPjada2WKvQfwnxKxrAfukHQ7sCgiXip1bUXmA98FbiNLMNpGPb4u6SfAicDJwEbg8XIniYiZZNMeeSo1ahIVys3MzNqllgSjkuOAURGxv7CwI6P/EbE5TZ1cAixLxX8HriRLJPaVelqZ05ULRMDciLi5SiyvSxoGXAz8UtIzETEjIl4AXijztHnAw5IezU4Rm9Moy13A8IjYKulW4IRKry3pRmBSiUNLImJqpedW0AKcDrRI6gr0AnYWlLfpB7zbztcwMzPr8CLPZ4Dr2nYkDSlXMSL2ALsknZ+KLgdeLFN9GXA9hxKMZcANpPUXRV4DBkr6Ytr/XsGxl8lGE5D0DaBtzcdzwHhJn0vHTpb0hXTsI0ndUvnngfcj4n7gDmBouesruM43yKZcfk6WbMChZGJ7Gomp+q2RiJiZpmqKH+1NLgAWApPT9niy6aNI5RPTt0wGAmdw+EiRmZlZzTo6gjEV+F1ayNgVWAL8sEL9ycBsSScCb5KNSpSylGzUYFXaX0a2HuOwBCNNoVwNPCFpO1lScXY6/AvgwbQ480VgG7A3IrZL+hnwjKTjgI+Aa4F3gLuBdZJWk60ZmSnp41TnGgBJw4ErKnzYzyOb3hiYYtwtaQ7ZlMvbwMoKbdQukl4imy7qKakFuCoinpY0A1gVEQuBe4D7JG0hG7mYmOLbKGk+8E+gFbg2Ig7kHaOZmR07lN3AHp0kHQ8ciIhWSaOA3xeuJzEzM7Mjo6MjGM2uPzA/jVJ8CPygwfGYmZkdE47qEQwzMzNrjKb6TZ5mZmZ2dHCCYWZmZrlzgmFmZma5c4JhZmZmuXOCYWZmZrlzgmFmZma5+x9APMATlRM3QgAAAABJRU5ErkJggg==\n",
          "text/plain": "<matplotlib.figure.Figure at 0x1079a4b10>"
         },
         "metadata": {},
         "output_type": "display_data"
        }
       ]
      }
     },
     "b388d47ccc2546b087bd24dccf12928c": {
      "model_module": "@jupyter-widgets/controls",
      "model_module_version": "1.1.0",
      "model_name": "DropdownModel",
      "state": {
       "_options_labels": [
        "cos",
        "sin"
       ],
       "description": "Function: ",
       "index": 1,
       "layout": "IPY_MODEL_b3be7c06d2604d23bcadaf4e155f40e6",
       "style": "IPY_MODEL_3182445043ba48deaec6cdede77132d5"
      }
     },
     "b3be7c06d2604d23bcadaf4e155f40e6": {
      "model_module": "@jupyter-widgets/base",
      "model_module_version": "1.0.0",
      "model_name": "LayoutModel",
      "state": {}
     },
     "b50bfcc8ddc64152b103b28a62de43b5": {
      "model_module": "@jupyter-widgets/controls",
      "model_module_version": "1.1.0",
      "model_name": "FloatSliderModel",
      "state": {
       "continuous_update": false,
       "layout": "IPY_MODEL_fbe2c14341564e1d9a52181b9853757c",
       "max": 10,
       "min": 0.5,
       "step": 0.5,
       "style": "IPY_MODEL_a757b4fdeed44019a7f3e8c7c43d2701",
       "value": 1
      }
     },
     "b5e09d8b3deb4be18013c37997ae04ba": {
      "model_module": "@jupyter-widgets/controls",
      "model_module_version": "1.1.0",
      "model_name": "ButtonStyleModel",
      "state": {}
     },
     "b82354a766794be7abf5074a144bac08": {
      "model_module": "@jupyter-widgets/output",
      "model_module_version": "1.0.0",
      "model_name": "OutputModel",
      "state": {
       "layout": "IPY_MODEL_bb9dfd12b43d4834bde18bf40eb157df",
       "outputs": [
        {
         "data": {
          "image/png": "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\n",
          "text/plain": "<matplotlib.figure.Figure at 0x1172fb590>"
         },
         "metadata": {},
         "output_type": "display_data"
        }
       ]
      }
     },
     "bb9dfd12b43d4834bde18bf40eb157df": {
      "model_module": "@jupyter-widgets/base",
      "model_module_version": "1.0.0",
      "model_name": "LayoutModel",
      "state": {}
     },
     "bbe45bbbb72e4607872118ebadaabf50": {
      "model_module": "@jupyter-widgets/output",
      "model_module_version": "1.0.0",
      "model_name": "OutputModel",
      "state": {
       "layout": "IPY_MODEL_3cfd925296264e4e8c291f0c63f801f3",
       "outputs": [
        {
         "data": {
          "image/png": "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\n",
          "text/plain": "<matplotlib.figure.Figure at 0x10f8a0a50>"
         },
         "metadata": {},
         "output_type": "display_data"
        }
       ]
      }
     },
     "bc08046857754e22ada0d8def6be90f3": {
      "model_module": "@jupyter-widgets/base",
      "model_module_version": "1.0.0",
      "model_name": "LayoutModel",
      "state": {}
     },
     "bc3d649a6b564276ac310387e89a5ba6": {
      "model_module": "@jupyter-widgets/controls",
      "model_module_version": "1.1.0",
      "model_name": "ButtonStyleModel",
      "state": {}
     },
     "bdcd193c4ed042f5aaa309dfe472724d": {
      "model_module": "@jupyter-widgets/controls",
      "model_module_version": "1.1.0",
      "model_name": "VBoxModel",
      "state": {
       "children": [
        "IPY_MODEL_b82354a766794be7abf5074a144bac08",
        "IPY_MODEL_44985a9b6bc046aeb7e6ec974948057b"
       ],
       "layout": "IPY_MODEL_152abd45cddd42a7b85ea32812e64daf"
      }
     },
     "bec6b00a80db4e0f9dc2ff70f857c48d": {
      "model_module": "@jupyter-widgets/base",
      "model_module_version": "1.0.0",
      "model_name": "LayoutModel",
      "state": {}
     },
     "bfe824a95323443fb8653b3612da240b": {
      "model_module": "@jupyter-widgets/base",
      "model_module_version": "1.0.0",
      "model_name": "LayoutModel",
      "state": {}
     },
     "bfe8d8239ff948fd9fc2a42104e57a59": {
      "model_module": "@jupyter-widgets/controls",
      "model_module_version": "1.1.0",
      "model_name": "FloatSliderModel",
      "state": {
       "continuous_update": false,
       "layout": "IPY_MODEL_a8eebaa1c384496e8867b8dfaa088745",
       "max": 10,
       "min": 0.5,
       "step": 0.5,
       "style": "IPY_MODEL_034969cc6d334036b8791ebc05a6e505",
       "value": 1
      }
     },
     "c1ed73846f3d498fa660828a57c6c614": {
      "model_module": "@jupyter-widgets/controls",
      "model_module_version": "1.1.0",
      "model_name": "SliderStyleModel",
      "state": {
       "description_width": ""
      }
     },
     "c3de6bdedb7c411092bf431c2dc756dc": {
      "model_module": "@jupyter-widgets/controls",
      "model_module_version": "1.1.0",
      "model_name": "ButtonStyleModel",
      "state": {}
     },
     "c44cfb492afa43abb6dbb03c631ab311": {
      "model_module": "@jupyter-widgets/controls",
      "model_module_version": "1.1.0",
      "model_name": "ButtonModel",
      "state": {
       "button_style": "info",
       "description": "Posterior",
       "layout": "IPY_MODEL_78e3a00b481e489f8624f5ac14d47ee3",
       "style": "IPY_MODEL_4adff2a8fbdc419c8b6c623a2927e776"
      }
     },
     "c7ed9840694447be9da9d39839670898": {
      "model_module": "@jupyter-widgets/controls",
      "model_module_version": "1.1.0",
      "model_name": "ButtonModel",
      "state": {
       "button_style": "info",
       "description": "Anterior",
       "layout": "IPY_MODEL_8598ba7983c54053906ec7f2810b861f",
       "style": "IPY_MODEL_90f70c345c734ef4bad53a93e8b4c359"
      }
     },
     "d4f716e38ebb402582bb3e193b6aed24": {
      "model_module": "@jupyter-widgets/base",
      "model_module_version": "1.0.0",
      "model_name": "LayoutModel",
      "state": {}
     },
     "dc9d5b1e17374dd1824abe25b4f5dfc7": {
      "model_module": "@jupyter-widgets/controls",
      "model_module_version": "1.1.0",
      "model_name": "ButtonModel",
      "state": {
       "button_style": "info",
       "description": "Inferior",
       "layout": "IPY_MODEL_5f74fecb145241b485a9114365f2675b",
       "style": "IPY_MODEL_8c83e25c2fe34559ab69f2d43671baac"
      }
     },
     "e5113c80aafc48b9998cebae24cc583b": {
      "model_module": "@jupyter-widgets/base",
      "model_module_version": "1.0.0",
      "model_name": "LayoutModel",
      "state": {}
     },
     "e560b62043044b4aa0f341b6e2c93694": {
      "model_module": "@jupyter-widgets/base",
      "model_module_version": "1.0.0",
      "model_name": "LayoutModel",
      "state": {}
     },
     "e678f613ecc8432e99e1d842fbb8856e": {
      "model_module": "@jupyter-widgets/base",
      "model_module_version": "1.0.0",
      "model_name": "LayoutModel",
      "state": {}
     },
     "ee57e7c54aa14ca081f476ce4e00667a": {
      "model_module": "@jupyter-widgets/base",
      "model_module_version": "1.0.0",
      "model_name": "LayoutModel",
      "state": {}
     },
     "ef8b89d91d69420fb01e7695da7776ce": {
      "model_module": "@jupyter-widgets/controls",
      "model_module_version": "1.1.0",
      "model_name": "HBoxModel",
      "state": {
       "children": [
        "IPY_MODEL_b388d47ccc2546b087bd24dccf12928c",
        "IPY_MODEL_b50bfcc8ddc64152b103b28a62de43b5"
       ],
       "layout": "IPY_MODEL_84bcc58f91a24d468c1130a7489c3e35"
      }
     },
     "f700009c2775410b9bee54ec59987d22": {
      "model_module": "@jupyter-widgets/base",
      "model_module_version": "1.0.0",
      "model_name": "LayoutModel",
      "state": {}
     },
     "f933284671f04d8a93ddac079dffa2d7": {
      "model_module": "@jupyter-widgets/controls",
      "model_module_version": "1.1.0",
      "model_name": "DescriptionStyleModel",
      "state": {
       "description_width": ""
      }
     },
     "fa800db58d374768b921c465b18f83cb": {
      "model_module": "@jupyter-widgets/output",
      "model_module_version": "1.0.0",
      "model_name": "OutputModel",
      "state": {
       "layout": "IPY_MODEL_6290dcbbd9174e638a0df37858ce3f1e",
       "outputs": [
        {
         "data": {
          "image/png": "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\n",
          "text/plain": "<matplotlib.figure.Figure at 0x11722b210>"
         },
         "metadata": {},
         "output_type": "display_data"
        }
       ]
      }
     },
     "fbe2c14341564e1d9a52181b9853757c": {
      "model_module": "@jupyter-widgets/base",
      "model_module_version": "1.0.0",
      "model_name": "LayoutModel",
      "state": {}
     },
     "ff8dcea703254f66868bd1cb76a0ff17": {
      "model_module": "@jupyter-widgets/controls",
      "model_module_version": "1.1.0",
      "model_name": "HBoxModel",
      "state": {
       "children": [
        "IPY_MODEL_4ac3b13e0baf44c787152c72ad248371",
        "IPY_MODEL_aab9a7334edf4a5e98aeab9687cfaf77"
       ],
       "layout": "IPY_MODEL_bec6b00a80db4e0f9dc2ff70f857c48d"
      }
     }
    },
    "version_major": 2,
    "version_minor": 0
   }
  }
 },
 "nbformat": 4,
 "nbformat_minor": 2
}
